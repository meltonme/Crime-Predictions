{
 "cells": [
  {
   "cell_type": "code",
   "execution_count": 1,
   "id": "34c0d0b3",
   "metadata": {},
   "outputs": [],
   "source": [
    "# Initial imports\n",
    "from warnings import simplefilter\n",
    "simplefilter(action='ignore', category=FutureWarning)\n",
    "import pandas as pd\n",
    "from sklearn import preprocessing\n",
    "from sklearn.ensemble import RandomForestClassifier\n",
    "from sklearn.preprocessing import StandardScaler\n",
    "from sklearn.model_selection import train_test_split\n",
    "from sklearn.metrics import confusion_matrix, accuracy_score, classification_report\n",
    "%matplotlib inline"
   ]
  },
  {
   "cell_type": "code",
   "execution_count": 2,
   "id": "3e8122e3",
   "metadata": {},
   "outputs": [],
   "source": [
    "import psycopg2\n",
    "from Resources.config import PostgrePw\n",
    "import pandas as pd"
   ]
  },
  {
   "cell_type": "code",
   "execution_count": 3,
   "id": "c34f78bf",
   "metadata": {},
   "outputs": [],
   "source": [
    "# Create the connection engine\n",
    "conn_string = f\"host='localhost' dbname='crime_data_db' user='postgres' password='{PostgrePw}'\"\n",
    "conn = psycopg2.connect(conn_string)"
   ]
  },
  {
   "cell_type": "code",
   "execution_count": 4,
   "id": "384c3ba0",
   "metadata": {},
   "outputs": [
    {
     "name": "stdout",
     "output_type": "stream",
     "text": [
      "Connection successful\n"
     ]
    },
    {
     "name": "stderr",
     "output_type": "stream",
     "text": [
      "C:\\Users\\Brittney Watts\\AppData\\Local\\Temp\\ipykernel_15976\\2369206151.py:10: UserWarning: pandas only supports SQLAlchemy connectable (engine/connection) or database string URI or sqlite3 DBAPI2 connection. Other DBAPI2 objects are not tested. Please consider using SQLAlchemy.\n",
      "  crime_data_df = pd.read_sql_query(query,conn)\n"
     ]
    },
    {
     "name": "stdout",
     "output_type": "stream",
     "text": [
      "              x              y  year incident_report_id             location  \\\n",
      "0  1.448107e+06  543688.000087  2021   20210807-1032-01         500 W 4TH ST   \n",
      "1  1.406833e+06  499666.999875  2021   20210714-0714-02     14200 PERUGIA WY   \n",
      "2  1.439801e+06  548658.999988  2017   20170521-1457-02         3000 RUSH AV   \n",
      "3  1.449394e+06  572029.000163  2022   20221028-1713-02       4900 SUNSET RD   \n",
      "4  1.432559e+06  550084.000090  2020   20201214-0857-00  4600 TUCKASEEGEE RD   \n",
      "\n",
      "        city state    zip  x_coord_public  y_coord_public  ...  \\\n",
      "0  CHARLOTTE    NC  28202         1448107          543688  ...   \n",
      "1  CHARLOTTE    NC  28273         1406833          499667  ...   \n",
      "2  CHARLOTTE    NC  28208         1439801          548659  ...   \n",
      "3  CHARLOTTE    NC  28269         1449394          572029  ...   \n",
      "4  CHARLOTTE    NC   None         1432559          550084  ...   \n",
      "\n",
      "   location_type_description  place_type_description  \\\n",
      "0                   Outdoors  Public/Non-Residential   \n",
      "1                Parking Lot             Residential   \n",
      "2                   Outdoors             Residential   \n",
      "3                    Indoors        Commercial Place   \n",
      "4                    Indoors        Commercial Place   \n",
      "\n",
      "       place_detail_description clearance_status  clearance_detail_status  \\\n",
      "0        Air/Bus/Train Terminal             Open                     Open   \n",
      "1  Apartment/Duplex Private Res             Open                     Open   \n",
      "2             Private Residence             Open                     Open   \n",
      "3                   Hotel/Motel             Open                     Open   \n",
      "4                      Day Care             Open                     Open   \n",
      "\n",
      "  clearance_date highest_nibrs_code     highest_nibrs_description objectid  \\\n",
      "0           None                23H              All Other Thefts        1   \n",
      "1           None                23F      Theft From Motor Vehicle        2   \n",
      "2           None                290  Damage/Vandalism Of Property        3   \n",
      "3           None                11D             Forcible Fondling        4   \n",
      "4           None                220                  Burglary/B&E        5   \n",
      "\n",
      "                               globalid  \n",
      "0  eafa7afe-e804-4c62-a54a-27fe05dc193c  \n",
      "1  3a654d83-2451-4cd1-8ddf-d4dc033afdaa  \n",
      "2  041746dd-6c3e-41ad-b4cb-7d98fbf99f95  \n",
      "3  c122dbb6-928d-49aa-bb56-6d73d609e03d  \n",
      "4  0ba4bb41-45ff-425f-a678-7a4676379ea9  \n",
      "\n",
      "[5 rows x 29 columns]\n",
      "Connection closed\n"
     ]
    }
   ],
   "source": [
    "# establish a connection to Postgre\n",
    "try:\n",
    "    conn = psycopg2.connect(conn_string)\n",
    "    print(\"Connection successful\")\n",
    "    \n",
    "    # query and load the table\n",
    "    query = \"SELECT * FROM crime_data\"\n",
    "    \n",
    "    # load into pandas DF\n",
    "    crime_data_df = pd.read_sql_query(query,conn)\n",
    "    \n",
    "    # Display Df\n",
    "    print(crime_data_df.head())\n",
    "    \n",
    "except Exception as e:\n",
    "    print(f\"Error connecting to the database: {e}\")\n",
    "# since the data is loaded into pandas, we can close the connection!\n",
    "finally:\n",
    "    if 'conn' in locals():\n",
    "        conn.close()\n",
    "        print(\"Connection closed\")"
   ]
  },
  {
   "cell_type": "code",
   "execution_count": 5,
   "id": "64cac5f9",
   "metadata": {
    "scrolled": true
   },
   "outputs": [
    {
     "name": "stdout",
     "output_type": "stream",
     "text": [
      "THE DATA TYPES:\n",
      "x                                   float64\n",
      "y                                   float64\n",
      "year                                  int64\n",
      "incident_report_id                   object\n",
      "location                             object\n",
      "city                                 object\n",
      "state                                object\n",
      "zip                                  object\n",
      "x_coord_public                        int64\n",
      "y_coord_public                        int64\n",
      "latitude_public                     float64\n",
      "longitude_public                    float64\n",
      "division_id                          object\n",
      "cmpd_patrol_division                 object\n",
      "npa                                   int64\n",
      "date_reported                datetime64[ns]\n",
      "date_incident_began                  object\n",
      "date_incident_end                    object\n",
      "address_description                  object\n",
      "location_type_description            object\n",
      "place_type_description               object\n",
      "place_detail_description             object\n",
      "clearance_status                     object\n",
      "clearance_detail_status              object\n",
      "clearance_date                       object\n",
      "highest_nibrs_code                   object\n",
      "highest_nibrs_description            object\n",
      "objectid                              int64\n",
      "globalid                             object\n",
      "dtype: object\n",
      "\n",
      "NUMBER OF RECORDS: 659886\n",
      "\n",
      "COLUMN NAMES: Index(['x', 'y', 'year', 'incident_report_id', 'location', 'city', 'state',\n",
      "       'zip', 'x_coord_public', 'y_coord_public', 'latitude_public',\n",
      "       'longitude_public', 'division_id', 'cmpd_patrol_division', 'npa',\n",
      "       'date_reported', 'date_incident_began', 'date_incident_end',\n",
      "       'address_description', 'location_type_description',\n",
      "       'place_type_description', 'place_detail_description',\n",
      "       'clearance_status', 'clearance_detail_status', 'clearance_date',\n",
      "       'highest_nibrs_code', 'highest_nibrs_description', 'objectid',\n",
      "       'globalid'],\n",
      "      dtype='object')\n",
      "\n",
      "NUMBER OF UNIQUE VALUES PER COLUMNS:\n",
      "x                             21332\n",
      "y                             21765\n",
      "year                              8\n",
      "incident_report_id           659886\n",
      "location                      37191\n",
      "city                             62\n",
      "state                             4\n",
      "zip                             616\n",
      "x_coord_public                21332\n",
      "y_coord_public                21765\n",
      "latitude_public               23215\n",
      "longitude_public              23389\n",
      "division_id                      25\n",
      "cmpd_patrol_division             18\n",
      "npa                             450\n",
      "date_reported                  2697\n",
      "date_incident_began            4153\n",
      "date_incident_end              3503\n",
      "address_description               2\n",
      "location_type_description         5\n",
      "place_type_description            5\n",
      "place_detail_description         82\n",
      "clearance_status                  5\n",
      "clearance_detail_status          12\n",
      "clearance_date                 2703\n",
      "highest_nibrs_code               72\n",
      "highest_nibrs_description        72\n",
      "objectid                     659886\n",
      "globalid                     659886\n",
      "dtype: int64\n"
     ]
    }
   ],
   "source": [
    "# CHECK THE DATA TYPES, NUMBER OF RECORDS, AND COLUMN NAMES \n",
    "print(f'THE DATA TYPES:\\n{crime_data_df.dtypes}\\n')\n",
    "print(f'NUMBER OF RECORDS: {len(crime_data_df)}\\n')\n",
    "print(f'COLUMN NAMES: {crime_data_df.columns}\\n')\n",
    "print(f'NUMBER OF UNIQUE VALUES PER COLUMNS:\\n{crime_data_df.nunique()}')"
   ]
  },
  {
   "cell_type": "code",
   "execution_count": 12,
   "id": "440f5418",
   "metadata": {},
   "outputs": [
    {
     "name": "stdout",
     "output_type": "stream",
     "text": [
      "clearance_status\n",
      "3    394705\n",
      "2    129424\n",
      "0    109573\n",
      "4     21443\n",
      "1      4741\n",
      "Name: count, dtype: int64\n",
      "clearance_detail_status\n",
      "Open                                           393008\n",
      "Cleared by Arrest                              109573\n",
      "Cleared by Other Means                          71311\n",
      "Victim Chose not to Prosecute                   38617\n",
      "Unfounded                                       19562\n",
      "Located (Missing Persons and Runaways only)     17934\n",
      "Cleared by Arrest by Another Agency              4741\n",
      "Unfounded-Referred to Other Agency               1881\n",
      "Cleared, Pending Arrest Validation               1697\n",
      "Prosecution Declined by DA                       1220\n",
      "By Death of Offender                              329\n",
      "Extradition Declined                               13\n",
      "Name: count, dtype: int64\n"
     ]
    }
   ],
   "source": [
    "# checking cleared types \n",
    "clearance_types = crime_data_df['clearance_status'].value_counts()\n",
    "print(clearance_types)\n",
    "clearance_detail_types = crime_data_df['clearance_detail_status'].value_counts()\n",
    "print(clearance_detail_types)"
   ]
  },
  {
   "cell_type": "code",
   "execution_count": 6,
   "id": "16d226fc",
   "metadata": {},
   "outputs": [],
   "source": [
    "label_encoder = preprocessing.LabelEncoder() \n",
    "  \n",
    "# Encode labels in column 'clearance_status'. \n",
    "crime_data_df['clearance_status']= label_encoder.fit_transform(crime_data_df['clearance_status'])"
   ]
  },
  {
   "cell_type": "code",
   "execution_count": 9,
   "id": "4d474cf5",
   "metadata": {},
   "outputs": [
    {
     "name": "stdout",
     "output_type": "stream",
     "text": [
      "0    3\n",
      "1    3\n",
      "2    3\n",
      "3    3\n",
      "4    3\n",
      "Name: clearance_status, dtype: int32\n",
      "   year    zip division_id  npa date_reported      place_detail_description  \\\n",
      "0  2021  28202          01  476    2021-08-07        Air/Bus/Train Terminal   \n",
      "1  2021  28273          21   82    2021-07-14  Apartment/Duplex Private Res   \n",
      "2  2017  28208          02  293    2017-05-21             Private Residence   \n",
      "3  2022  28269          11  125    2022-10-28                   Hotel/Motel   \n",
      "4  2020   None          27  199    2020-12-14                      Day Care   \n",
      "\n",
      "  highest_nibrs_code  \n",
      "0                23H  \n",
      "1                23F  \n",
      "2                290  \n",
      "3                11D  \n",
      "4                220  \n"
     ]
    }
   ],
   "source": [
    "# Separate the target variable, y\n",
    "y = crime_data_df['clearance_status']\n",
    "\n",
    "# Separate the features, X, and drop unnecessary columns\n",
    "X = crime_data_df[['year', 'zip', 'division_id', 'npa', 'date_reported', \n",
    "                   'place_detail_description', 'highest_nibrs_code']]\n",
    "\n",
    "# Print a preview of both\n",
    "print(y[:5])\n",
    "print(X.head())"
   ]
  },
  {
   "cell_type": "code",
   "execution_count": null,
   "id": "58951d1e",
   "metadata": {},
   "outputs": [],
   "source": [
    "# Preview the first five entries for the target variable\n",
    "y[:5]"
   ]
  },
  {
   "cell_type": "code",
   "execution_count": 13,
   "id": "3d1982d5",
   "metadata": {},
   "outputs": [
    {
     "name": "stdout",
     "output_type": "stream",
     "text": [
      "   year date_reported  zip_00000  zip_0113  zip_0211  zip_02719  zip_02724  \\\n",
      "0  2021    2021-08-07      False     False     False      False      False   \n",
      "1  2021    2021-07-14      False     False     False      False      False   \n",
      "2  2017    2017-05-21      False     False     False      False      False   \n",
      "3  2022    2022-10-28      False     False     False      False      False   \n",
      "4  2020    2020-12-14      False     False     False      False      False   \n",
      "\n",
      "   zip_02727  zip_0712  zip_0713  ...  highest_nibrs_code_90B  \\\n",
      "0      False     False     False  ...                   False   \n",
      "1      False     False     False  ...                   False   \n",
      "2      False     False     False  ...                   False   \n",
      "3      False     False     False  ...                   False   \n",
      "4      False     False     False  ...                   False   \n",
      "\n",
      "   highest_nibrs_code_90C  highest_nibrs_code_90D  highest_nibrs_code_90F  \\\n",
      "0                   False                   False                   False   \n",
      "1                   False                   False                   False   \n",
      "2                   False                   False                   False   \n",
      "3                   False                   False                   False   \n",
      "4                   False                   False                   False   \n",
      "\n",
      "   highest_nibrs_code_90G  highest_nibrs_code_90H  highest_nibrs_code_90J  \\\n",
      "0                   False                   False                   False   \n",
      "1                   False                   False                   False   \n",
      "2                   False                   False                   False   \n",
      "3                   False                   False                   False   \n",
      "4                   False                   False                   False   \n",
      "\n",
      "   highest_nibrs_code_90Z  highest_nibrs_code_99Y  highest_nibrs_code_99Z  \n",
      "0                   False                   False                   False  \n",
      "1                   False                   False                   False  \n",
      "2                   False                   False                   False  \n",
      "3                   False                   False                   False  \n",
      "4                   False                   False                   False  \n",
      "\n",
      "[5 rows x 1247 columns]\n"
     ]
    }
   ],
   "source": [
    "# encoding features, X, categorical variables\n",
    "needs_encoding = ['zip', 'division_id', 'npa', 'place_detail_description', 'highest_nibrs_code']\n",
    "\n",
    "# Apply one-hot encoding to the specified columns\n",
    "X = pd.get_dummies(X, columns=needs_encoding)\n",
    "\n",
    "# Print a preview of the encoded features\n",
    "print(X.head())"
   ]
  },
  {
   "cell_type": "code",
   "execution_count": 14,
   "id": "dafbfd84",
   "metadata": {},
   "outputs": [],
   "source": [
    "# Split the dataset\n",
    "X_train, X_test, y_train, y_test = train_test_split(X, y, random_state=1)\n",
    "\n",
    "# Separate numeric and non-numeric columns\n",
    "numeric_cols = X_train.select_dtypes(include=['number']).columns\n",
    "non_numeric_cols = X_train.select_dtypes(exclude=['number']).columns\n",
    "\n",
    "# Instantiate a StandardScaler instance\n",
    "scaler = StandardScaler()\n",
    "\n",
    "# Fit the training data to the standard scaler using only numeric columns\n",
    "X_train_scaled = scaler.fit_transform(X_train[numeric_cols])\n",
    "\n",
    "# Transform the testing data using the scaler\n",
    "X_test_scaled = scaler.transform(X_test[numeric_cols])\n",
    "\n",
    "# If you need to keep non-numeric data for model training\n",
    "X_train_final = pd.concat([pd.DataFrame(X_train_scaled, columns=numeric_cols), X_train[non_numeric_cols].reset_index(drop=True)], axis=1)\n",
    "X_test_final = pd.concat([pd.DataFrame(X_test_scaled, columns=numeric_cols), X_test[non_numeric_cols].reset_index(drop=True)], axis=1)\n"
   ]
  },
  {
   "cell_type": "code",
   "execution_count": 15,
   "id": "f523c5a1",
   "metadata": {},
   "outputs": [],
   "source": [
    "# Create a random forest classifier\n",
    "rf_model = RandomForestClassifier(n_estimators=500, random_state=78)"
   ]
  },
  {
   "cell_type": "code",
   "execution_count": 16,
   "id": "90c51692",
   "metadata": {},
   "outputs": [],
   "source": [
    "# Fitting the model\n",
    "rf_model = rf_model.fit(X_train_scaled, y_train)"
   ]
  },
  {
   "cell_type": "code",
   "execution_count": 17,
   "id": "41b29cee",
   "metadata": {},
   "outputs": [],
   "source": [
    "# Making predictions using the testing data\n",
    "predictions = rf_model.predict(X_test_scaled)"
   ]
  },
  {
   "cell_type": "code",
   "execution_count": 19,
   "id": "6e5216f0",
   "metadata": {},
   "outputs": [
    {
     "name": "stdout",
     "output_type": "stream",
     "text": [
      "          Predicted 0  Predicted 1  Predicted 2  Predicted 3  Predicted 4\n",
      "Actual 0            0            0            0        27228            0\n",
      "Actual 1            0            0            0         1216            0\n",
      "Actual 2            0            0            0        32474            0\n",
      "Actual 3            0            0            0        98749            0\n",
      "Actual 4            0            0            0         5305            0\n",
      "Accuracy Score: 0.5985803651528744\n"
     ]
    }
   ],
   "source": [
    "# Calculating the confusion matrix\n",
    "cm = confusion_matrix(y_test, predictions)\n",
    "unique_classes = sorted(list(set(y_test)))\n",
    "cm_df = pd.DataFrame(\n",
    "    cm, index=[f\"Actual {cls}\" for cls in unique_classes], columns=[f\"Predicted {cls}\" for cls in unique_classes]\n",
    ")\n",
    "\n",
    "# display confusion matrix DF\n",
    "print(cm_df.head())\n",
    "\n",
    "# Calculating the accuracy score\n",
    "acc_score = accuracy_score(y_test, predictions)\n",
    "print(f\"Accuracy Score: {acc_score}\")"
   ]
  },
  {
   "cell_type": "code",
   "execution_count": 20,
   "id": "049c2fd7",
   "metadata": {},
   "outputs": [
    {
     "name": "stdout",
     "output_type": "stream",
     "text": [
      "Confusion Matrix\n"
     ]
    },
    {
     "data": {
      "text/html": [
       "<div>\n",
       "<style scoped>\n",
       "    .dataframe tbody tr th:only-of-type {\n",
       "        vertical-align: middle;\n",
       "    }\n",
       "\n",
       "    .dataframe tbody tr th {\n",
       "        vertical-align: top;\n",
       "    }\n",
       "\n",
       "    .dataframe thead th {\n",
       "        text-align: right;\n",
       "    }\n",
       "</style>\n",
       "<table border=\"1\" class=\"dataframe\">\n",
       "  <thead>\n",
       "    <tr style=\"text-align: right;\">\n",
       "      <th></th>\n",
       "      <th>Predicted 0</th>\n",
       "      <th>Predicted 1</th>\n",
       "      <th>Predicted 2</th>\n",
       "      <th>Predicted 3</th>\n",
       "      <th>Predicted 4</th>\n",
       "    </tr>\n",
       "  </thead>\n",
       "  <tbody>\n",
       "    <tr>\n",
       "      <th>Actual 0</th>\n",
       "      <td>0</td>\n",
       "      <td>0</td>\n",
       "      <td>0</td>\n",
       "      <td>27228</td>\n",
       "      <td>0</td>\n",
       "    </tr>\n",
       "    <tr>\n",
       "      <th>Actual 1</th>\n",
       "      <td>0</td>\n",
       "      <td>0</td>\n",
       "      <td>0</td>\n",
       "      <td>1216</td>\n",
       "      <td>0</td>\n",
       "    </tr>\n",
       "    <tr>\n",
       "      <th>Actual 2</th>\n",
       "      <td>0</td>\n",
       "      <td>0</td>\n",
       "      <td>0</td>\n",
       "      <td>32474</td>\n",
       "      <td>0</td>\n",
       "    </tr>\n",
       "    <tr>\n",
       "      <th>Actual 3</th>\n",
       "      <td>0</td>\n",
       "      <td>0</td>\n",
       "      <td>0</td>\n",
       "      <td>98749</td>\n",
       "      <td>0</td>\n",
       "    </tr>\n",
       "    <tr>\n",
       "      <th>Actual 4</th>\n",
       "      <td>0</td>\n",
       "      <td>0</td>\n",
       "      <td>0</td>\n",
       "      <td>5305</td>\n",
       "      <td>0</td>\n",
       "    </tr>\n",
       "  </tbody>\n",
       "</table>\n",
       "</div>"
      ],
      "text/plain": [
       "          Predicted 0  Predicted 1  Predicted 2  Predicted 3  Predicted 4\n",
       "Actual 0            0            0            0        27228            0\n",
       "Actual 1            0            0            0         1216            0\n",
       "Actual 2            0            0            0        32474            0\n",
       "Actual 3            0            0            0        98749            0\n",
       "Actual 4            0            0            0         5305            0"
      ]
     },
     "metadata": {},
     "output_type": "display_data"
    },
    {
     "name": "stdout",
     "output_type": "stream",
     "text": [
      "Accuracy Score : 0.5985803651528744\n",
      "Classification Report\n",
      "              precision    recall  f1-score   support\n",
      "\n",
      "           0       0.00      0.00      0.00     27228\n",
      "           1       0.00      0.00      0.00      1216\n",
      "           2       0.00      0.00      0.00     32474\n",
      "           3       0.60      1.00      0.75     98749\n",
      "           4       0.00      0.00      0.00      5305\n",
      "\n",
      "    accuracy                           0.60    164972\n",
      "   macro avg       0.12      0.20      0.15    164972\n",
      "weighted avg       0.36      0.60      0.45    164972\n",
      "\n"
     ]
    },
    {
     "name": "stderr",
     "output_type": "stream",
     "text": [
      "C:\\Users\\Brittney Watts\\anaconda3\\envs\\dev\\lib\\site-packages\\sklearn\\metrics\\_classification.py:1469: UndefinedMetricWarning: Precision and F-score are ill-defined and being set to 0.0 in labels with no predicted samples. Use `zero_division` parameter to control this behavior.\n",
      "  _warn_prf(average, modifier, msg_start, len(result))\n",
      "C:\\Users\\Brittney Watts\\anaconda3\\envs\\dev\\lib\\site-packages\\sklearn\\metrics\\_classification.py:1469: UndefinedMetricWarning: Precision and F-score are ill-defined and being set to 0.0 in labels with no predicted samples. Use `zero_division` parameter to control this behavior.\n",
      "  _warn_prf(average, modifier, msg_start, len(result))\n",
      "C:\\Users\\Brittney Watts\\anaconda3\\envs\\dev\\lib\\site-packages\\sklearn\\metrics\\_classification.py:1469: UndefinedMetricWarning: Precision and F-score are ill-defined and being set to 0.0 in labels with no predicted samples. Use `zero_division` parameter to control this behavior.\n",
      "  _warn_prf(average, modifier, msg_start, len(result))\n"
     ]
    }
   ],
   "source": [
    "# Displaying results\n",
    "print(\"Confusion Matrix\")\n",
    "display(cm_df)\n",
    "print(f\"Accuracy Score : {acc_score}\")\n",
    "print(\"Classification Report\")\n",
    "print(classification_report(y_test, predictions))"
   ]
  },
  {
   "cell_type": "code",
   "execution_count": 21,
   "id": "1ec8b7bf",
   "metadata": {},
   "outputs": [
    {
     "data": {
      "text/plain": [
       "[(1.0, 'year')]"
      ]
     },
     "execution_count": 21,
     "metadata": {},
     "output_type": "execute_result"
    }
   ],
   "source": [
    "# Random Forests in sklearn will automatically calculate feature importance\n",
    "importances = rf_model.feature_importances_\n",
    "# We can sort the features by their importance\n",
    "sorted(zip(rf_model.feature_importances_, X.columns), reverse=True)"
   ]
  },
  {
   "cell_type": "code",
   "execution_count": 22,
   "id": "d52cdcc3",
   "metadata": {},
   "outputs": [
    {
     "data": {
      "text/plain": [
       "<Axes: title={'center': 'Features Importances'}, ylabel='1'>"
      ]
     },
     "execution_count": 22,
     "metadata": {},
     "output_type": "execute_result"
    },
    {
     "data": {
      "image/png": "[encoded data removed]",
      "text/plain": [
       "<Figure size 640x480 with 1 Axes>"
      ]
     },
     "metadata": {},
     "output_type": "display_data"
    }
   ],
   "source": [
    "# Visualize the features by importance\n",
    "importances_df = pd.DataFrame(sorted(zip(rf_model.feature_importances_, X.columns), reverse=True))\n",
    "importances_df.set_index(importances_df[1], inplace=True)\n",
    "importances_df.drop(columns=1, inplace=True)\n",
    "importances_df.rename(columns={0: 'Feature Importances'}, inplace=True)\n",
    "importances_sorted = importances_df.sort_values(by='Feature Importances')\n",
    "importances_sorted.plot(kind='barh', color='lightgreen', title= 'Features Importances', legend=False)"
   ]
  },
  {
   "cell_type": "code",
   "execution_count": null,
   "id": "934e4b47",
   "metadata": {},
   "outputs": [],
   "source": []
  },
  {
   "cell_type": "code",
   "execution_count": null,
   "id": "3c2ae851",
   "metadata": {},
   "outputs": [],
   "source": []
  }
 ],
 "metadata": {
  "kernelspec": {
   "display_name": "Python 3 (ipykernel)",
   "language": "python",
   "name": "python3"
  },
  "language_info": {
   "codemirror_mode": {
    "name": "ipython",
    "version": 3
   },
   "file_extension": ".py",
   "mimetype": "text/x-python",
   "name": "python",
   "nbconvert_exporter": "python",
   "pygments_lexer": "ipython3",
   "version": "3.10.13"
  }
 },
 "nbformat": 4,
 "nbformat_minor": 5
}
