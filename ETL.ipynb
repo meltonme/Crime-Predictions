{
 "cells": [
  {
   "cell_type": "markdown",
   "id": "57c156c5",
   "metadata": {},
   "source": [
    "IMPORTS"
   ]
  },
  {
   "cell_type": "code",
   "execution_count": 1,
   "id": "3e8122e3",
   "metadata": {},
   "outputs": [],
   "source": [
    "import psycopg2\n",
    "from Resources.config import PostgrePw\n",
    "import pandas as pd"
   ]
  },
  {
   "cell_type": "markdown",
   "id": "718d39f6",
   "metadata": {},
   "source": [
    "CONNECT TO LOCAL POSTGRESQL AND EXTRACT DATA"
   ]
  },
  {
   "cell_type": "code",
   "execution_count": 2,
   "id": "c34f78bf",
   "metadata": {},
   "outputs": [],
   "source": [
    "# Create the connection engine\n",
    "conn_string = f\"host='localhost' dbname='crime_data_db' user='postgres' password='{PostgrePw}'\"\n",
    "conn = psycopg2.connect(conn_string)"
   ]
  },
  {
   "cell_type": "code",
   "execution_count": 3,
   "id": "384c3ba0",
   "metadata": {},
   "outputs": [
    {
     "name": "stdout",
     "output_type": "stream",
     "text": [
      "Connection successful\n"
     ]
    },
    {
     "name": "stderr",
     "output_type": "stream",
     "text": [
      "C:\\Users\\Brittney Watts\\AppData\\Local\\Temp\\ipykernel_18712\\2369206151.py:10: UserWarning: pandas only supports SQLAlchemy connectable (engine/connection) or database string URI or sqlite3 DBAPI2 connection. Other DBAPI2 objects are not tested. Please consider using SQLAlchemy.\n",
      "  crime_data_df = pd.read_sql_query(query,conn)\n"
     ]
    },
    {
     "name": "stdout",
     "output_type": "stream",
     "text": [
      "              x              y  year incident_report_id             location  \\\n",
      "0  1.448107e+06  543688.000087  2021   20210807-1032-01         500 W 4TH ST   \n",
      "1  1.406833e+06  499666.999875  2021   20210714-0714-02     14200 PERUGIA WY   \n",
      "2  1.439801e+06  548658.999988  2017   20170521-1457-02         3000 RUSH AV   \n",
      "3  1.449394e+06  572029.000163  2022   20221028-1713-02       4900 SUNSET RD   \n",
      "4  1.432559e+06  550084.000090  2020   20201214-0857-00  4600 TUCKASEEGEE RD   \n",
      "\n",
      "        city state    zip  x_coord_public  y_coord_public  ...  \\\n",
      "0  CHARLOTTE    NC  28202         1448107          543688  ...   \n",
      "1  CHARLOTTE    NC  28273         1406833          499667  ...   \n",
      "2  CHARLOTTE    NC  28208         1439801          548659  ...   \n",
      "3  CHARLOTTE    NC  28269         1449394          572029  ...   \n",
      "4  CHARLOTTE    NC   None         1432559          550084  ...   \n",
      "\n",
      "   location_type_description  place_type_description  \\\n",
      "0                   Outdoors  Public/Non-Residential   \n",
      "1                Parking Lot             Residential   \n",
      "2                   Outdoors             Residential   \n",
      "3                    Indoors        Commercial Place   \n",
      "4                    Indoors        Commercial Place   \n",
      "\n",
      "       place_detail_description clearance_status  clearance_detail_status  \\\n",
      "0        Air/Bus/Train Terminal             Open                     Open   \n",
      "1  Apartment/Duplex Private Res             Open                     Open   \n",
      "2             Private Residence             Open                     Open   \n",
      "3                   Hotel/Motel             Open                     Open   \n",
      "4                      Day Care             Open                     Open   \n",
      "\n",
      "  clearance_date highest_nibrs_code     highest_nibrs_description objectid  \\\n",
      "0           None                23H              All Other Thefts        1   \n",
      "1           None                23F      Theft From Motor Vehicle        2   \n",
      "2           None                290  Damage/Vandalism Of Property        3   \n",
      "3           None                11D             Forcible Fondling        4   \n",
      "4           None                220                  Burglary/B&E        5   \n",
      "\n",
      "                               globalid  \n",
      "0  eafa7afe-e804-4c62-a54a-27fe05dc193c  \n",
      "1  3a654d83-2451-4cd1-8ddf-d4dc033afdaa  \n",
      "2  041746dd-6c3e-41ad-b4cb-7d98fbf99f95  \n",
      "3  c122dbb6-928d-49aa-bb56-6d73d609e03d  \n",
      "4  0ba4bb41-45ff-425f-a678-7a4676379ea9  \n",
      "\n",
      "[5 rows x 29 columns]\n",
      "Connection closed\n"
     ]
    }
   ],
   "source": [
    "# establish a connection to Postgre\n",
    "try:\n",
    "    conn = psycopg2.connect(conn_string)\n",
    "    print(\"Connection successful\")\n",
    "    \n",
    "    # query and load the table\n",
    "    query = \"SELECT * FROM crime_data\"\n",
    "    \n",
    "    # load into pandas DF\n",
    "    crime_data_df = pd.read_sql_query(query,conn)\n",
    "    \n",
    "    # Display Df\n",
    "    print(crime_data_df.head())\n",
    "    \n",
    "except Exception as e:\n",
    "    print(f\"Error connecting to the database: {e}\")\n",
    "# since the data is loaded into pandas, we can close the connection!\n",
    "finally:\n",
    "    if 'conn' in locals():\n",
    "        conn.close()\n",
    "        print(\"Connection closed\")"
   ]
  },
  {
   "cell_type": "code",
   "execution_count": 4,
   "id": "64cac5f9",
   "metadata": {
    "scrolled": true
   },
   "outputs": [
    {
     "name": "stdout",
     "output_type": "stream",
     "text": [
      "THE DATA TYPES:\n",
      "x                                   float64\n",
      "y                                   float64\n",
      "year                                  int64\n",
      "incident_report_id                   object\n",
      "location                             object\n",
      "city                                 object\n",
      "state                                object\n",
      "zip                                  object\n",
      "x_coord_public                        int64\n",
      "y_coord_public                        int64\n",
      "latitude_public                     float64\n",
      "longitude_public                    float64\n",
      "division_id                          object\n",
      "cmpd_patrol_division                 object\n",
      "npa                                   int64\n",
      "date_reported                datetime64[ns]\n",
      "date_incident_began                  object\n",
      "date_incident_end                    object\n",
      "address_description                  object\n",
      "location_type_description            object\n",
      "place_type_description               object\n",
      "place_detail_description             object\n",
      "clearance_status                     object\n",
      "clearance_detail_status              object\n",
      "clearance_date                       object\n",
      "highest_nibrs_code                   object\n",
      "highest_nibrs_description            object\n",
      "objectid                              int64\n",
      "globalid                             object\n",
      "dtype: object\n",
      "\n",
      "NUMBER OF RECORDS: 659886\n",
      "\n",
      "COLUMN NAMES: Index(['x', 'y', 'year', 'incident_report_id', 'location', 'city', 'state',\n",
      "       'zip', 'x_coord_public', 'y_coord_public', 'latitude_public',\n",
      "       'longitude_public', 'division_id', 'cmpd_patrol_division', 'npa',\n",
      "       'date_reported', 'date_incident_began', 'date_incident_end',\n",
      "       'address_description', 'location_type_description',\n",
      "       'place_type_description', 'place_detail_description',\n",
      "       'clearance_status', 'clearance_detail_status', 'clearance_date',\n",
      "       'highest_nibrs_code', 'highest_nibrs_description', 'objectid',\n",
      "       'globalid'],\n",
      "      dtype='object')\n",
      "\n",
      "NUMBER OF UNIQUE VALUES PER COLUMNS:\n",
      "x                             21332\n",
      "y                             21765\n",
      "year                              8\n",
      "incident_report_id           659886\n",
      "location                      37191\n",
      "city                             62\n",
      "state                             4\n",
      "zip                             616\n",
      "x_coord_public                21332\n",
      "y_coord_public                21765\n",
      "latitude_public               23215\n",
      "longitude_public              23389\n",
      "division_id                      25\n",
      "cmpd_patrol_division             18\n",
      "npa                             450\n",
      "date_reported                  2697\n",
      "date_incident_began            4153\n",
      "date_incident_end              3503\n",
      "address_description               2\n",
      "location_type_description         5\n",
      "place_type_description            5\n",
      "place_detail_description         82\n",
      "clearance_status                  5\n",
      "clearance_detail_status          12\n",
      "clearance_date                 2703\n",
      "highest_nibrs_code               72\n",
      "highest_nibrs_description        72\n",
      "objectid                     659886\n",
      "globalid                     659886\n",
      "dtype: int64\n"
     ]
    }
   ],
   "source": [
    "# CHECK THE DATA TYPES, NUMBER OF RECORDS, AND COLUMN NAMES \n",
    "print(f'THE DATA TYPES:\\n{crime_data_df.dtypes}\\n')\n",
    "print(f'NUMBER OF RECORDS: {len(crime_data_df)}\\n')\n",
    "print(f'COLUMN NAMES: {crime_data_df.columns}\\n')\n",
    "print(f'NUMBER OF UNIQUE VALUES PER COLUMNS:\\n{crime_data_df.nunique()}')"
   ]
  },
  {
   "cell_type": "markdown",
   "id": "5062e75b",
   "metadata": {},
   "source": [
    "CLEANING THE DATA EXTRACTED FROM POSTGRESQL\n",
    "\n",
    "1. Cleaning clearance_status column to include open or cleared status"
   ]
  },
  {
   "cell_type": "code",
   "execution_count": 5,
   "id": "440f5418",
   "metadata": {
    "scrolled": true
   },
   "outputs": [
    {
     "name": "stdout",
     "output_type": "stream",
     "text": [
      "clearance_status\n",
      "Open                                   394705\n",
      "Exceptionally Cleared                  129424\n",
      "Cleared by Arrest                      109573\n",
      "Unfounded                               21443\n",
      "Cleared by Arrest by Another Agency      4741\n",
      "Name: count, dtype: int64\n"
     ]
    }
   ],
   "source": [
    "# checking cleared types \n",
    "clearance_types = crime_data_df['clearance_status'].value_counts()\n",
    "print(clearance_types)"
   ]
  },
  {
   "cell_type": "code",
   "execution_count": 6,
   "id": "fe128701",
   "metadata": {},
   "outputs": [
    {
     "name": "stdout",
     "output_type": "stream",
     "text": [
      "638443\n"
     ]
    }
   ],
   "source": [
    "# Drop rows where clearance_status(target variable) is 'Unfounded'\n",
    "clean_target_df = crime_data_df.loc[crime_data_df['clearance_status'] != 'Unfounded']\n",
    "\n",
    "# Use .loc to map all statuses to 'Cleared' except for 'Open'\n",
    "clean_target_df.loc[clean_target_df['clearance_status'] != 'Open', 'clearance_status'] = 'Cleared'\n",
    "# show that rows have been deleted\n",
    "print(len(clean_target_df))"
   ]
  },
  {
   "cell_type": "code",
   "execution_count": 7,
   "id": "9c6c13ae",
   "metadata": {
    "scrolled": true
   },
   "outputs": [
    {
     "name": "stdout",
     "output_type": "stream",
     "text": [
      "clearance_status\n",
      "Open       394705\n",
      "Cleared    243738\n",
      "Name: count, dtype: int64\n"
     ]
    }
   ],
   "source": [
    "# Print the number of instances of different values in clearance status. there should only be two\n",
    "clean_target_clearance_counts = clean_target_df['clearance_status'].value_counts()\n",
    "print(clean_target_clearance_counts)"
   ]
  },
  {
   "cell_type": "markdown",
   "id": "818daea9",
   "metadata": {},
   "source": [
    "2. Ensure only Charlotte zipcodes are included in the DataFrame"
   ]
  },
  {
   "cell_type": "code",
   "execution_count": 8,
   "id": "4a35b4b9",
   "metadata": {},
   "outputs": [
    {
     "name": "stdout",
     "output_type": "stream",
     "text": [
      "427380\n"
     ]
    }
   ],
   "source": [
    "# Filtering dataframe to include only charlotte zipcodes(there should oonly be 84 true clt zips)\n",
    "# list of Charlotte ZIP codes\n",
    "charlotte_zipcodes = [\n",
    "    '28201', '28202', '28203', '28204', '28205', '28206', '28207', '28208', '28209', '28210',\n",
    "    '28211', '28212', '28213', '28214', '28215', '28216', '28217', '28218', '28219', '28220',\n",
    "    '28221', '28222', '28223', '28224', '28226', '28227', '28228', '28229', '28230', '28231',\n",
    "    '28232', '28233', '28234', '28235', '28236', '28237', '28241', '28242', '28243', '28244',\n",
    "    '28246', '28247', '28250', '28253', '28254', '28255', '28256', '28258', '28260', '28262',\n",
    "    '28263', '28265', '28266', '28269', '28270', '28271', '28272', '28273', '28274', '28275',\n",
    "    '28277', '28278', '28280', '28281', '28282', '28284', '28285', '28287', '28288', '28289',\n",
    "    '28290', '28296', '28297', '28299'\n",
    "]\n",
    "\n",
    "# Filter DataFrame to only include rows with Charlotte ZIP codes\n",
    "cleaned_zip_df = clean_target_df[clean_target_df['zip'].isin(charlotte_zipcodes)]\n",
    "# verify that rows have been dropped\n",
    "print(len(cleaned_zip_df))"
   ]
  },
  {
   "cell_type": "code",
   "execution_count": 9,
   "id": "a892b4d9",
   "metadata": {
    "scrolled": true
   },
   "outputs": [],
   "source": [
    "# Look at zip code value counts to identify and replace with \"Other\"\n",
    "zip_type_value_counts = cleaned_zip_df['zip'].value_counts()\n",
    "\n",
    "# Choose a cutoff value and create a list of zips to be dropped\n",
    "zip_cutoff_value = 400\n",
    "zips_to_drop = zip_type_value_counts[zip_type_value_counts < zip_cutoff_value].index\n",
    "\n",
    "# Drop rows where zip codes are in the zips_to_drop list using .loc\n",
    "cleaned_zip_df = cleaned_zip_df.loc[~cleaned_zip_df['zip'].isin(zips_to_drop)]\n"
   ]
  },
  {
   "cell_type": "markdown",
   "id": "3b3773a0",
   "metadata": {},
   "source": [
    "3. Reduce NPA value counts in the DataFrame"
   ]
  },
  {
   "cell_type": "code",
   "execution_count": 10,
   "id": "f7e37ab5",
   "metadata": {},
   "outputs": [
    {
     "data": {
      "text/plain": [
       "npa\n",
       "476    21222\n",
       "3       7479\n",
       "122     7222\n",
       "371     6267\n",
       "331     5808\n",
       "       ...  \n",
       "453        1\n",
       "463        1\n",
       "404        1\n",
       "438        1\n",
       "426        1\n",
       "Name: count, Length: 419, dtype: int64"
      ]
     },
     "execution_count": 10,
     "metadata": {},
     "output_type": "execute_result"
    }
   ],
   "source": [
    "# Look at NPA value counts to identify and replace with \"Other\"\n",
    "npa_value_counts = cleaned_zip_df['npa'].value_counts()\n",
    "npa_value_counts\n",
    "\n",
    "#npa_value_counts.to_list()"
   ]
  },
  {
   "cell_type": "code",
   "execution_count": 11,
   "id": "77f79548",
   "metadata": {},
   "outputs": [
    {
     "data": {
      "text/plain": [
       "npa\n",
       "476    21222\n",
       "3       7479\n",
       "122     7222\n",
       "371     6267\n",
       "331     5808\n",
       "       ...  \n",
       "4        116\n",
       "252      114\n",
       "308      107\n",
       "131      107\n",
       "149      102\n",
       "Name: count, Length: 377, dtype: int64"
      ]
     },
     "execution_count": 11,
     "metadata": {},
     "output_type": "execute_result"
    }
   ],
   "source": [
    "cleaned_npa_df = cleaned_zip_df.copy()\n",
    "# Choose a cutoff value and create a list of npa values to be dropped\n",
    "npa_cutoff_value = 100\n",
    "npas_to_drop = npa_value_counts[npa_value_counts < npa_cutoff_value].index\n",
    "# Decrease the number of bins for optimization\n",
    "npa_to_replace = npa_value_counts[npa_value_counts<100].index\n",
    "# Drop rows where zip codes are in the zips_to_drop list using .loc\n",
    "cleaned_npa_df = cleaned_npa_df.loc[~cleaned_npa_df['npa'].isin(npas_to_drop)]\n",
    "\n",
    "# Check to make sure replacement was successful\n",
    "cleaned_npa_df['npa'].value_counts()"
   ]
  },
  {
   "cell_type": "markdown",
   "id": "48ffdaea",
   "metadata": {},
   "source": [
    "4. Change DATE_REPORTED date time to only the year and month so there are less columns to train. This could decrease the amount of columns from potentially 2,500+ to 84 for just dates. "
   ]
  },
  {
   "cell_type": "code",
   "execution_count": 12,
   "id": "3c6b9abd",
   "metadata": {},
   "outputs": [
    {
     "data": {
      "text/plain": [
       "date_reported\n",
       "2019-10-02    225\n",
       "2017-09-18    225\n",
       "2018-10-29    224\n",
       "2019-05-20    224\n",
       "2017-08-23    222\n",
       "             ... \n",
       "2022-12-24     80\n",
       "2018-12-25     77\n",
       "2022-12-25     71\n",
       "2022-11-24     70\n",
       "2020-12-25     68\n",
       "Name: count, Length: 2697, dtype: int64"
      ]
     },
     "execution_count": 12,
     "metadata": {},
     "output_type": "execute_result"
    }
   ],
   "source": [
    "# see the value counts and length for date_reported since that is the next column that needs to be reduced\n",
    "dates = cleaned_npa_df['date_reported'].value_counts()\n",
    "dates"
   ]
  },
  {
   "cell_type": "code",
   "execution_count": 13,
   "id": "c65ebcf8",
   "metadata": {},
   "outputs": [
    {
     "data": {
      "text/plain": [
       "date_reported_y/m\n",
       "2019-10    5507\n",
       "2017-05    5462\n",
       "2017-08    5416\n",
       "2018-08    5406\n",
       "2019-07    5401\n",
       "           ... \n",
       "2024-03    4249\n",
       "2021-01    4180\n",
       "2021-02    3966\n",
       "2020-04    3806\n",
       "2024-05    2898\n",
       "Name: count, Length: 89, dtype: int64"
      ]
     },
     "execution_count": 13,
     "metadata": {},
     "output_type": "execute_result"
    }
   ],
   "source": [
    "cleaned_date_df = cleaned_npa_df.copy()\n",
    "cleaned_date_df['date_reported'] = pd.to_datetime(cleaned_date_df['date_reported'])\n",
    "\n",
    "# Change the datetime format to display only the year and month\n",
    "cleaned_date_df['date_reported_y/m'] = cleaned_date_df['date_reported'].dt.strftime('%Y-%m')\n",
    "\n",
    "# Display the value counts for date_reported_y/m to verify they have been changed\n",
    "ym_dates = cleaned_date_df['date_reported_y/m'].value_counts()\n",
    "ym_dates"
   ]
  },
  {
   "cell_type": "code",
   "execution_count": 14,
   "id": "e1a4798a",
   "metadata": {
    "scrolled": true
   },
   "outputs": [
    {
     "data": {
      "text/plain": [
       "x                                   float64\n",
       "y                                   float64\n",
       "year                                  int64\n",
       "incident_report_id                   object\n",
       "location                             object\n",
       "city                                 object\n",
       "state                                object\n",
       "zip                                  object\n",
       "x_coord_public                        int64\n",
       "y_coord_public                        int64\n",
       "latitude_public                     float64\n",
       "longitude_public                    float64\n",
       "division_id                          object\n",
       "cmpd_patrol_division                 object\n",
       "npa                                   int64\n",
       "date_reported                datetime64[ns]\n",
       "date_incident_began                  object\n",
       "date_incident_end                    object\n",
       "address_description                  object\n",
       "location_type_description            object\n",
       "place_type_description               object\n",
       "place_detail_description             object\n",
       "clearance_status                     object\n",
       "clearance_detail_status              object\n",
       "clearance_date                       object\n",
       "highest_nibrs_code                   object\n",
       "highest_nibrs_description            object\n",
       "objectid                              int64\n",
       "globalid                             object\n",
       "date_reported_y/m                    object\n",
       "dtype: object"
      ]
     },
     "execution_count": 14,
     "metadata": {},
     "output_type": "execute_result"
    }
   ],
   "source": [
    "# see what the datatype is for date_reported_y/m. it should now be object\n",
    "cleaned_date_df.dtypes"
   ]
  },
  {
   "cell_type": "markdown",
   "id": "5241de60",
   "metadata": {},
   "source": [
    "5. Reduce value counts for 'place_detail_description'"
   ]
  },
  {
   "cell_type": "code",
   "execution_count": 15,
   "id": "be8b390b",
   "metadata": {
    "scrolled": true
   },
   "outputs": [
    {
     "data": {
      "text/plain": [
       "place_detail_description\n",
       "Private Residence                          106220\n",
       "Apartment/Duplex Private Res                84263\n",
       "Street/Highway                              41959\n",
       "Other - Commercial Place                    24689\n",
       "Hotel/Motel                                 13675\n",
       "                                            ...  \n",
       "Illegal/Unlicensed Liquor Establishment         6\n",
       "Military Installation                           5\n",
       "Mobile Home Dealership                          4\n",
       "Bus - Non-Specific                              4\n",
       "Taxi Company                                    1\n",
       "Name: count, Length: 82, dtype: int64"
      ]
     },
     "execution_count": 15,
     "metadata": {},
     "output_type": "execute_result"
    }
   ],
   "source": [
    "# Look at place_detail_description value counts to identify and replace with \"Other\"\n",
    "place_detail_description_value_counts = cleaned_date_df['place_detail_description'].value_counts()\n",
    "place_detail_description_value_counts"
   ]
  },
  {
   "cell_type": "code",
   "execution_count": 16,
   "id": "c992068d",
   "metadata": {
    "scrolled": true
   },
   "outputs": [
    {
     "data": {
      "text/plain": [
       "place_detail_description\n",
       "Private Residence               106220\n",
       "Apartment/Duplex Private Res     84263\n",
       "Street/Highway                   41959\n",
       "Other - Commercial Place         24689\n",
       "Hotel/Motel                      13675\n",
       "                                 ...  \n",
       "Salvage Yard                       226\n",
       "Community Center                   185\n",
       "Jail/Prison                        147\n",
       "Industrial Site                    128\n",
       "Jewelry Store                      124\n",
       "Name: count, Length: 63, dtype: int64"
      ]
     },
     "execution_count": 16,
     "metadata": {},
     "output_type": "execute_result"
    }
   ],
   "source": [
    "cleaned_place_df = cleaned_date_df.copy()\n",
    "\n",
    "# Choose a cutoff value and create a list of places to be dropped\n",
    "place_cutoff_value = 100\n",
    "places_to_drop = place_detail_description_value_counts[place_detail_description_value_counts < place_cutoff_value].index\n",
    "# Decrease the number of bins for optimization\n",
    "places_to_replace = place_detail_description_value_counts[place_detail_description_value_counts<100].index\n",
    "# Drop rows where zip codes are in the zips_to_drop list using .loc\n",
    "cleaned_place_df = cleaned_place_df.loc[~cleaned_place_df['place_detail_description'].isin(places_to_drop)]\n",
    "\n",
    "# Check to make sure replacement was successful\n",
    "cleaned_place_df['place_detail_description'].value_counts()"
   ]
  },
  {
   "cell_type": "markdown",
   "id": "bfb76e8d",
   "metadata": {},
   "source": [
    "6. Reduce value counts for 'highest_nibrs_description'"
   ]
  },
  {
   "cell_type": "code",
   "execution_count": 17,
   "id": "0d1dfe3e",
   "metadata": {},
   "outputs": [
    {
     "data": {
      "text/plain": [
       "highest_nibrs_description\n",
       "Theft From Motor Vehicle       47643\n",
       "All Other Thefts               42561\n",
       "All Other Offenses             40305\n",
       "Other Unlisted Non-Criminal    35084\n",
       "Simple Assault                 31867\n",
       "                               ...  \n",
       "Betting/Wagering                   5\n",
       "Welfare Fraud                      2\n",
       "Bribery                            1\n",
       "Purchasing Prostitution            1\n",
       "Gas Leak                           1\n",
       "Name: count, Length: 72, dtype: int64"
      ]
     },
     "execution_count": 17,
     "metadata": {},
     "output_type": "execute_result"
    }
   ],
   "source": [
    "# Look at highest_nibrs_code value counts to identify and replace with \"Other\"\n",
    "highest_nibrs_description_value_counts = cleaned_place_df['highest_nibrs_description'].value_counts()\n",
    "highest_nibrs_description_value_counts"
   ]
  },
  {
   "cell_type": "code",
   "execution_count": 18,
   "id": "86cbe59b",
   "metadata": {},
   "outputs": [
    {
     "data": {
      "text/plain": [
       "54"
      ]
     },
     "execution_count": 18,
     "metadata": {},
     "output_type": "execute_result"
    }
   ],
   "source": [
    "cleanedish_nibrs_df = cleaned_date_df.copy()\n",
    "\n",
    "# Choose a cutoff value and create a list of nibrs descriptions to be dropped\n",
    "nibrs_cutoff_value = 100\n",
    "nibrs_to_drop = highest_nibrs_description_value_counts[highest_nibrs_description_value_counts < nibrs_cutoff_value].index\n",
    "# Decrease the number of bins for optimization\n",
    "nibrs_to_replace = highest_nibrs_description_value_counts[highest_nibrs_description_value_counts<100].index\n",
    "# Drop rows where zip codes are in the zips_to_drop list using .loc\n",
    "cleanedish_nibrs_df = cleanedish_nibrs_df.loc[~cleanedish_nibrs_df['highest_nibrs_description'].isin(nibrs_to_drop)]\n",
    "\n",
    "# Check to make sure replacement was successful\n",
    "nibrs_counts = cleanedish_nibrs_df['highest_nibrs_description'].value_counts()\n",
    "len(nibrs_counts)"
   ]
  },
  {
   "cell_type": "markdown",
   "id": "6b9e6caf",
   "metadata": {},
   "source": [
    "NOW THAT ALL OF THE NECESSARY COLUMNS HAVE BEEN REDUCED, WE ARE NOW WORKING ON THE FINAL DATAFRAME"
   ]
  },
  {
   "cell_type": "code",
   "execution_count": 19,
   "id": "3260e0c8",
   "metadata": {},
   "outputs": [
    {
     "data": {
      "text/plain": [
       "424863"
      ]
     },
     "execution_count": 19,
     "metadata": {},
     "output_type": "execute_result"
    }
   ],
   "source": [
    "# verify the length of the dataframe\n",
    "len(cleanedish_nibrs_df)"
   ]
  },
  {
   "cell_type": "code",
   "execution_count": 20,
   "id": "e72ecf8f",
   "metadata": {},
   "outputs": [
    {
     "data": {
      "text/plain": [
       "367443"
      ]
     },
     "execution_count": 20,
     "metadata": {},
     "output_type": "execute_result"
    }
   ],
   "source": [
    "# Because NIBRS codes in the 800 category are non-criminal offenses like missing person, suicide, and sudden death, we can remove rows where this is the case\n",
    "# List of highest_nibrs_code values to remove\n",
    "codes_to_remove = ['800', '801', '802', '803', '804', '806', '807', '809', '810', '899']\n",
    "\n",
    "# Filter out rows where 'highest_nibrs_code' is in the list\n",
    "cleaned_nibrs_df = cleanedish_nibrs_df[~cleanedish_nibrs_df['highest_nibrs_code'].isin(codes_to_remove)]\n",
    "len(cleaned_nibrs_df)"
   ]
  },
  {
   "cell_type": "code",
   "execution_count": 21,
   "id": "4708ff2c",
   "metadata": {},
   "outputs": [
    {
     "data": {
      "text/html": [
       "<div>\n",
       "<style scoped>\n",
       "    .dataframe tbody tr th:only-of-type {\n",
       "        vertical-align: middle;\n",
       "    }\n",
       "\n",
       "    .dataframe tbody tr th {\n",
       "        vertical-align: top;\n",
       "    }\n",
       "\n",
       "    .dataframe thead th {\n",
       "        text-align: right;\n",
       "    }\n",
       "</style>\n",
       "<table border=\"1\" class=\"dataframe\">\n",
       "  <thead>\n",
       "    <tr style=\"text-align: right;\">\n",
       "      <th></th>\n",
       "      <th>year</th>\n",
       "      <th>zip</th>\n",
       "      <th>division_id</th>\n",
       "      <th>npa</th>\n",
       "      <th>date_reported_y/m</th>\n",
       "      <th>place_detail_description</th>\n",
       "      <th>highest_nibrs_description</th>\n",
       "      <th>location_type_description</th>\n",
       "      <th>clearance_status</th>\n",
       "    </tr>\n",
       "  </thead>\n",
       "  <tbody>\n",
       "    <tr>\n",
       "      <th>0</th>\n",
       "      <td>2021</td>\n",
       "      <td>28202</td>\n",
       "      <td>01</td>\n",
       "      <td>476</td>\n",
       "      <td>2021-08</td>\n",
       "      <td>Air/Bus/Train Terminal</td>\n",
       "      <td>All Other Thefts</td>\n",
       "      <td>Outdoors</td>\n",
       "      <td>Open</td>\n",
       "    </tr>\n",
       "    <tr>\n",
       "      <th>1</th>\n",
       "      <td>2021</td>\n",
       "      <td>28273</td>\n",
       "      <td>21</td>\n",
       "      <td>82</td>\n",
       "      <td>2021-07</td>\n",
       "      <td>Apartment/Duplex Private Res</td>\n",
       "      <td>Theft From Motor Vehicle</td>\n",
       "      <td>Parking Lot</td>\n",
       "      <td>Open</td>\n",
       "    </tr>\n",
       "    <tr>\n",
       "      <th>2</th>\n",
       "      <td>2017</td>\n",
       "      <td>28208</td>\n",
       "      <td>02</td>\n",
       "      <td>293</td>\n",
       "      <td>2017-05</td>\n",
       "      <td>Private Residence</td>\n",
       "      <td>Damage/Vandalism Of Property</td>\n",
       "      <td>Outdoors</td>\n",
       "      <td>Open</td>\n",
       "    </tr>\n",
       "    <tr>\n",
       "      <th>3</th>\n",
       "      <td>2022</td>\n",
       "      <td>28269</td>\n",
       "      <td>11</td>\n",
       "      <td>125</td>\n",
       "      <td>2022-10</td>\n",
       "      <td>Hotel/Motel</td>\n",
       "      <td>Forcible Fondling</td>\n",
       "      <td>Indoors</td>\n",
       "      <td>Open</td>\n",
       "    </tr>\n",
       "    <tr>\n",
       "      <th>6</th>\n",
       "      <td>2017</td>\n",
       "      <td>28215</td>\n",
       "      <td>07</td>\n",
       "      <td>271</td>\n",
       "      <td>2017-08</td>\n",
       "      <td>Private Residence</td>\n",
       "      <td>Burglary/B&amp;E</td>\n",
       "      <td>Indoors</td>\n",
       "      <td>Open</td>\n",
       "    </tr>\n",
       "  </tbody>\n",
       "</table>\n",
       "</div>"
      ],
      "text/plain": [
       "   year    zip division_id  npa date_reported_y/m  \\\n",
       "0  2021  28202          01  476           2021-08   \n",
       "1  2021  28273          21   82           2021-07   \n",
       "2  2017  28208          02  293           2017-05   \n",
       "3  2022  28269          11  125           2022-10   \n",
       "6  2017  28215          07  271           2017-08   \n",
       "\n",
       "       place_detail_description     highest_nibrs_description  \\\n",
       "0        Air/Bus/Train Terminal              All Other Thefts   \n",
       "1  Apartment/Duplex Private Res      Theft From Motor Vehicle   \n",
       "2             Private Residence  Damage/Vandalism Of Property   \n",
       "3                   Hotel/Motel             Forcible Fondling   \n",
       "6             Private Residence                  Burglary/B&E   \n",
       "\n",
       "  location_type_description clearance_status  \n",
       "0                  Outdoors             Open  \n",
       "1               Parking Lot             Open  \n",
       "2                  Outdoors             Open  \n",
       "3                   Indoors             Open  \n",
       "6                   Indoors             Open  "
      ]
     },
     "execution_count": 21,
     "metadata": {},
     "output_type": "execute_result"
    }
   ],
   "source": [
    "# drop columns that we don't need\n",
    "crime_df = cleaned_nibrs_df[['year', 'zip', 'division_id', 'npa', 'date_reported_y/m', \n",
    "                   'place_detail_description', 'highest_nibrs_description', 'location_type_description', 'clearance_status']]\n",
    "crime_df.head()"
   ]
  },
  {
   "cell_type": "code",
   "execution_count": 22,
   "id": "afd7f6f0",
   "metadata": {},
   "outputs": [],
   "source": [
    "# Loop through the DataFrame to find and print null values' locations if there are any\n",
    "for i, row in crime_df.iterrows():\n",
    "    for column in crime_df.columns:\n",
    "        if pd.isnull(row[column]):\n",
    "            print(f\"Null value found at row {i}, column '{column}'\")"
   ]
  },
  {
   "cell_type": "code",
   "execution_count": 23,
   "id": "5fbea07c",
   "metadata": {},
   "outputs": [],
   "source": [
    "crime_df.to_csv('Resources/cleaned_crime_df.csv', index = False)"
   ]
  },
  {
   "cell_type": "markdown",
   "id": "b5bdf4a4",
   "metadata": {},
   "source": [
    "NO NULL VALUES WOOHOO. NOW WE CAN ENCODE THE DATA"
   ]
  }
 ],
 "metadata": {
  "kernelspec": {
   "display_name": "Python 3 (ipykernel)",
   "language": "python",
   "name": "python3"
  },
  "language_info": {
   "codemirror_mode": {
    "name": "ipython",
    "version": 3
   },
   "file_extension": ".py",
   "mimetype": "text/x-python",
   "name": "python",
   "nbconvert_exporter": "python",
   "pygments_lexer": "ipython3",
   "version": "3.10.13"
  }
 },
 "nbformat": 4,
 "nbformat_minor": 5
}
