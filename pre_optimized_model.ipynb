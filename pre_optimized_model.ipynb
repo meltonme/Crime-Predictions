{
 "cells": [
  {
   "cell_type": "code",
   "execution_count": 1,
   "id": "f36c29b4",
   "metadata": {},
   "outputs": [],
   "source": [
    "# Import Modules\n",
    "import pandas as pd\n",
    "import matplotlib.pyplot as plt\n",
    "import sklearn as skl\n",
    "import tensorflow as tf"
   ]
  },
  {
   "cell_type": "markdown",
   "id": "78d6fa83",
   "metadata": {},
   "source": [
    "Import the data using psycopg2"
   ]
  },
  {
   "cell_type": "code",
   "execution_count": 2,
   "id": "abf5ca88",
   "metadata": {
    "scrolled": true
   },
   "outputs": [],
   "source": [
    "import psycopg2\n",
    "from Resources.config import PostgrePw"
   ]
  },
  {
   "cell_type": "code",
   "execution_count": 3,
   "id": "0e0b20e9",
   "metadata": {},
   "outputs": [],
   "source": [
    "# Create the connection engine\n",
    "conn_string = f\"host='localhost' dbname='crime_data_db' user='postgres' password='{PostgrePw}'\"\n",
    "conn = psycopg2.connect(conn_string)"
   ]
  },
  {
   "cell_type": "code",
   "execution_count": 4,
   "id": "8473e627",
   "metadata": {},
   "outputs": [
    {
     "name": "stdout",
     "output_type": "stream",
     "text": [
      "Connection successful\n"
     ]
    },
    {
     "name": "stderr",
     "output_type": "stream",
     "text": [
      "C:\\Users\\Brittney Watts\\AppData\\Local\\Temp\\ipykernel_12716\\3564323680.py:10: UserWarning: pandas only supports SQLAlchemy connectable (engine/connection) or database string URI or sqlite3 DBAPI2 connection. Other DBAPI2 objects are not tested. Please consider using SQLAlchemy.\n",
      "  CMPD_df = pd.read_sql_query(query,conn)\n"
     ]
    },
    {
     "name": "stdout",
     "output_type": "stream",
     "text": [
      "              x              y  year incident_report_id             location  \\\n",
      "0  1.448107e+06  543688.000087  2021   20210807-1032-01         500 W 4TH ST   \n",
      "1  1.406833e+06  499666.999875  2021   20210714-0714-02     14200 PERUGIA WY   \n",
      "2  1.439801e+06  548658.999988  2017   20170521-1457-02         3000 RUSH AV   \n",
      "3  1.449394e+06  572029.000163  2022   20221028-1713-02       4900 SUNSET RD   \n",
      "4  1.432559e+06  550084.000090  2020   20201214-0857-00  4600 TUCKASEEGEE RD   \n",
      "\n",
      "        city state    zip  x_coord_public  y_coord_public  ...  \\\n",
      "0  CHARLOTTE    NC  28202         1448107          543688  ...   \n",
      "1  CHARLOTTE    NC  28273         1406833          499667  ...   \n",
      "2  CHARLOTTE    NC  28208         1439801          548659  ...   \n",
      "3  CHARLOTTE    NC  28269         1449394          572029  ...   \n",
      "4  CHARLOTTE    NC   None         1432559          550084  ...   \n",
      "\n",
      "   location_type_description  place_type_description  \\\n",
      "0                   Outdoors  Public/Non-Residential   \n",
      "1                Parking Lot             Residential   \n",
      "2                   Outdoors             Residential   \n",
      "3                    Indoors        Commercial Place   \n",
      "4                    Indoors        Commercial Place   \n",
      "\n",
      "       place_detail_description clearance_status  clearance_detail_status  \\\n",
      "0        Air/Bus/Train Terminal             Open                     Open   \n",
      "1  Apartment/Duplex Private Res             Open                     Open   \n",
      "2             Private Residence             Open                     Open   \n",
      "3                   Hotel/Motel             Open                     Open   \n",
      "4                      Day Care             Open                     Open   \n",
      "\n",
      "  clearance_date highest_nibrs_code     highest_nibrs_description objectid  \\\n",
      "0           None                23H              All Other Thefts        1   \n",
      "1           None                23F      Theft From Motor Vehicle        2   \n",
      "2           None                290  Damage/Vandalism Of Property        3   \n",
      "3           None                11D             Forcible Fondling        4   \n",
      "4           None                220                  Burglary/B&E        5   \n",
      "\n",
      "                               globalid  \n",
      "0  eafa7afe-e804-4c62-a54a-27fe05dc193c  \n",
      "1  3a654d83-2451-4cd1-8ddf-d4dc033afdaa  \n",
      "2  041746dd-6c3e-41ad-b4cb-7d98fbf99f95  \n",
      "3  c122dbb6-928d-49aa-bb56-6d73d609e03d  \n",
      "4  0ba4bb41-45ff-425f-a678-7a4676379ea9  \n",
      "\n",
      "[5 rows x 29 columns]\n",
      "Connection closed\n"
     ]
    }
   ],
   "source": [
    "# establish a connection to Postgre\n",
    "try:\n",
    "    conn = psycopg2.connect(conn_string)\n",
    "    print(\"Connection successful\")\n",
    "    \n",
    "    # query and load the table\n",
    "    query = \"SELECT * FROM crime_data\"\n",
    "    \n",
    "    # load into pandas DF\n",
    "    CMPD_df = pd.read_sql_query(query,conn)\n",
    "    \n",
    "    # Display Df\n",
    "    print(CMPD_df.head())\n",
    "    \n",
    "except Exception as e:\n",
    "    print(f\"Error connecting to the database: {e}\")\n",
    "# since the data is loaded into pandas, we can close the connection!\n",
    "finally:\n",
    "    if 'conn' in locals():\n",
    "        conn.close()\n",
    "        print(\"Connection closed\")"
   ]
  },
  {
   "cell_type": "code",
   "execution_count": 5,
   "id": "4f0d1739",
   "metadata": {},
   "outputs": [
    {
     "data": {
      "text/plain": [
       "Index(['x', 'y', 'year', 'incident_report_id', 'location', 'city', 'state',\n",
       "       'zip', 'x_coord_public', 'y_coord_public', 'latitude_public',\n",
       "       'longitude_public', 'division_id', 'cmpd_patrol_division', 'npa',\n",
       "       'date_reported', 'date_incident_began', 'date_incident_end',\n",
       "       'address_description', 'location_type_description',\n",
       "       'place_type_description', 'place_detail_description',\n",
       "       'clearance_status', 'clearance_detail_status', 'clearance_date',\n",
       "       'highest_nibrs_code', 'highest_nibrs_description', 'objectid',\n",
       "       'globalid'],\n",
       "      dtype='object')"
      ]
     },
     "execution_count": 5,
     "metadata": {},
     "output_type": "execute_result"
    }
   ],
   "source": [
    "# Find the names of the columns so we can remove some of the unimportant ones\n",
    "CMPD_df.columns"
   ]
  },
  {
   "cell_type": "code",
   "execution_count": 6,
   "id": "bbb3f034",
   "metadata": {},
   "outputs": [
    {
     "data": {
      "text/plain": [
       "x                                   float64\n",
       "y                                   float64\n",
       "year                                  int64\n",
       "incident_report_id                   object\n",
       "location                             object\n",
       "city                                 object\n",
       "state                                object\n",
       "zip                                  object\n",
       "x_coord_public                        int64\n",
       "y_coord_public                        int64\n",
       "latitude_public                     float64\n",
       "longitude_public                    float64\n",
       "division_id                          object\n",
       "cmpd_patrol_division                 object\n",
       "npa                                   int64\n",
       "date_reported                datetime64[ns]\n",
       "date_incident_began                  object\n",
       "date_incident_end                    object\n",
       "address_description                  object\n",
       "location_type_description            object\n",
       "place_type_description               object\n",
       "place_detail_description             object\n",
       "clearance_status                     object\n",
       "clearance_detail_status              object\n",
       "clearance_date                       object\n",
       "highest_nibrs_code                   object\n",
       "highest_nibrs_description            object\n",
       "objectid                              int64\n",
       "globalid                             object\n",
       "dtype: object"
      ]
     },
     "execution_count": 6,
     "metadata": {},
     "output_type": "execute_result"
    }
   ],
   "source": [
    "#Check the data types\n",
    "CMPD_df.dtypes"
   ]
  },
  {
   "cell_type": "code",
   "execution_count": 9,
   "id": "c364ac6d",
   "metadata": {
    "scrolled": false
   },
   "outputs": [
    {
     "name": "stdout",
     "output_type": "stream",
     "text": [
      "   year    zip division_id  npa date_reported      place_detail_description  \\\n",
      "0  2021  28202          01  476    2021-08-07        Air/Bus/Train Terminal   \n",
      "1  2021  28273          21   82    2021-07-14  Apartment/Duplex Private Res   \n",
      "2  2017  28208          02  293    2017-05-21             Private Residence   \n",
      "3  2022  28269          11  125    2022-10-28                   Hotel/Motel   \n",
      "4  2020   None          27  199    2020-12-14                      Day Care   \n",
      "\n",
      "  highest_nibrs_code clearance_status  \n",
      "0                23H             Open  \n",
      "1                23F             Open  \n",
      "2                290             Open  \n",
      "3                11D             Open  \n",
      "4                220             Open  \n"
     ]
    }
   ],
   "source": [
    "# Create a new dataframe with the data you want to train\n",
    "# There were many good variables, but many were repetitive or superfluous for the amount of data that needs to be trained\n",
    "cmpd_df = CMPD_df[['year', 'zip', 'division_id', 'npa', 'date_reported', 'place_detail_description', 'highest_nibrs_code','clearance_status']]\n",
    "print(cmpd_df.head())"
   ]
  },
  {
   "cell_type": "code",
   "execution_count": 10,
   "id": "653ba529",
   "metadata": {
    "scrolled": true
   },
   "outputs": [
    {
     "name": "stdout",
     "output_type": "stream",
     "text": [
      "Earliest date in dataset: 2017-01-01 00:00:00\n",
      "Latest date in dataset: 2024-05-20 00:00:00\n"
     ]
    }
   ],
   "source": [
    "# Find the minimum and maximum date so we know how much time is covered in the dataset\n",
    "min_date = cmpd_df['date_reported'].min()\n",
    "max_date = cmpd_df['date_reported'].max()\n",
    "print(f'Earliest date in dataset: {min_date}\\nLatest date in dataset: {max_date}')"
   ]
  },
  {
   "cell_type": "code",
   "execution_count": 11,
   "id": "bede46d8",
   "metadata": {},
   "outputs": [
    {
     "data": {
      "text/plain": [
       "year                                 int64\n",
       "zip                                 object\n",
       "division_id                         object\n",
       "npa                                  int64\n",
       "date_reported               datetime64[ns]\n",
       "place_detail_description            object\n",
       "highest_nibrs_code                  object\n",
       "clearance_status                    object\n",
       "dtype: object"
      ]
     },
     "execution_count": 11,
     "metadata": {},
     "output_type": "execute_result"
    }
   ],
   "source": [
    "#Check the data types\n",
    "cmpd_df.dtypes"
   ]
  },
  {
   "cell_type": "code",
   "execution_count": 12,
   "id": "a8784b3b",
   "metadata": {},
   "outputs": [
    {
     "name": "stdout",
     "output_type": "stream",
     "text": [
      "[ True  True  True ...  True False False]\n"
     ]
    }
   ],
   "source": [
    "#Change the values in the 'CLEARANCE STATUS' to 0 or 1\n",
    "#Define the mapping \n",
    "mapping = {'Open': True, 'Cleared by Arrest': False, 'Cleared by Arrest by Another Agency': False, 'Exceptionally Cleared': False, 'Unfounded': False}\n",
    "\n",
    "# Apply mapping to the 'CLEARANCE_STATUS' column and fill NaN values with a default value (e.g., False)\n",
    "CMPD_df['clearance_status'] = CMPD_df['clearance_status'].map(mapping).fillna(False)\n",
    "\n",
    "#check to make sure the above worked\n",
    "CMPD_df.head(5)\n",
    "\n",
    "#Convert the 'CLEARANCE_STATUS' column into an array \n",
    "\n",
    "status_array = CMPD_df['clearance_status'].values\n",
    "print(status_array)\n"
   ]
  },
  {
   "cell_type": "code",
   "execution_count": 13,
   "id": "83900f09",
   "metadata": {},
   "outputs": [
    {
     "name": "stderr",
     "output_type": "stream",
     "text": [
      "C:\\Users\\Brittney Watts\\AppData\\Local\\Temp\\ipykernel_12716\\1314644588.py:4: SettingWithCopyWarning: \n",
      "A value is trying to be set on a copy of a slice from a DataFrame.\n",
      "Try using .loc[row_indexer,col_indexer] = value instead\n",
      "\n",
      "See the caveats in the documentation: https://pandas.pydata.org/pandas-docs/stable/user_guide/indexing.html#returning-a-view-versus-a-copy\n",
      "  cmpd_df['date_reported'] = pd.to_datetime(cmpd_df['date_reported'])\n"
     ]
    },
    {
     "name": "stdout",
     "output_type": "stream",
     "text": [
      "   year    zip division_id  npa date_reported      place_detail_description  \\\n",
      "0  2021  28202          01  476    2021-08-07        Air/Bus/Train Terminal   \n",
      "1  2021  28273          21   82    2021-07-14  Apartment/Duplex Private Res   \n",
      "2  2017  28208          02  293    2017-05-21             Private Residence   \n",
      "3  2022  28269          11  125    2022-10-28                   Hotel/Motel   \n",
      "4  2020   None          27  199    2020-12-14                      Day Care   \n",
      "\n",
      "  highest_nibrs_code clearance_status date_reported_y/m  \n",
      "0                23H             Open           2021-08  \n",
      "1                23F             Open           2021-07  \n",
      "2                290             Open           2017-05  \n",
      "3                11D             Open           2022-10  \n",
      "4                220             Open           2020-12  \n",
      "(659886, 9)\n"
     ]
    },
    {
     "name": "stderr",
     "output_type": "stream",
     "text": [
      "C:\\Users\\Brittney Watts\\AppData\\Local\\Temp\\ipykernel_12716\\1314644588.py:7: SettingWithCopyWarning: \n",
      "A value is trying to be set on a copy of a slice from a DataFrame.\n",
      "Try using .loc[row_indexer,col_indexer] = value instead\n",
      "\n",
      "See the caveats in the documentation: https://pandas.pydata.org/pandas-docs/stable/user_guide/indexing.html#returning-a-view-versus-a-copy\n",
      "  cmpd_df['date_reported_y/m'] = cmpd_df['date_reported'].dt.strftime('%Y-%m')\n"
     ]
    }
   ],
   "source": [
    "# Change DATE_REPORTED date time to only the year and month so there are less columns to train. \n",
    "# This could decrease the amount of columns from potentially 2,500+ to 84 for just dates. \n",
    "# This can be optimized if we want to add more specific dates later.\n",
    "cmpd_df['date_reported'] = pd.to_datetime(cmpd_df['date_reported'])\n",
    "\n",
    "# Change the datetime format to display only the year and month\n",
    "cmpd_df['date_reported_y/m'] = cmpd_df['date_reported'].dt.strftime('%Y-%m')\n",
    "\n",
    "# Display the DataFrame\n",
    "print(cmpd_df.head())\n",
    "print(cmpd_df.shape)"
   ]
  },
  {
   "cell_type": "code",
   "execution_count": 14,
   "id": "1a2ebe8f",
   "metadata": {},
   "outputs": [
    {
     "name": "stdout",
     "output_type": "stream",
     "text": [
      "   year    zip division_id  npa      place_detail_description  \\\n",
      "0  2021  28202          01  476        Air/Bus/Train Terminal   \n",
      "1  2021  28273          21   82  Apartment/Duplex Private Res   \n",
      "2  2017  28208          02  293             Private Residence   \n",
      "3  2022  28269          11  125                   Hotel/Motel   \n",
      "6  2017  28215          07  271             Private Residence   \n",
      "\n",
      "  highest_nibrs_code clearance_status date_reported_y/m  \n",
      "0                23H             Open           2021-08  \n",
      "1                23F             Open           2021-07  \n",
      "2                290             Open           2017-05  \n",
      "3                11D             Open           2022-10  \n",
      "6                220             Open           2017-08  \n",
      "(448619, 8)\n"
     ]
    }
   ],
   "source": [
    "# Drop the original DATE_REPORTED column and null values\n",
    "\n",
    "# Declare new df with dropped nulls \n",
    "cleanedish_cmpd_df = cmpd_df.dropna()\n",
    "\n",
    "# Declare final df after dropping DATE_REPORTED column \n",
    "cleaned_cmpd_df = cleanedish_cmpd_df.drop(columns=['date_reported'])\n",
    "\n",
    "# Verify column was dropped\n",
    "print(cleaned_cmpd_df.head())\n",
    "# Verify that null rows were dropped\n",
    "print(cleaned_cmpd_df.shape)"
   ]
  },
  {
   "cell_type": "code",
   "execution_count": 15,
   "id": "6f787a0d",
   "metadata": {},
   "outputs": [
    {
     "data": {
      "text/html": [
       "<div>\n",
       "<style scoped>\n",
       "    .dataframe tbody tr th:only-of-type {\n",
       "        vertical-align: middle;\n",
       "    }\n",
       "\n",
       "    .dataframe tbody tr th {\n",
       "        vertical-align: top;\n",
       "    }\n",
       "\n",
       "    .dataframe thead th {\n",
       "        text-align: right;\n",
       "    }\n",
       "</style>\n",
       "<table border=\"1\" class=\"dataframe\">\n",
       "  <thead>\n",
       "    <tr style=\"text-align: right;\">\n",
       "      <th></th>\n",
       "      <th>year</th>\n",
       "      <th>zip</th>\n",
       "      <th>division_id</th>\n",
       "      <th>npa</th>\n",
       "      <th>place_detail_description</th>\n",
       "      <th>highest_nibrs_code</th>\n",
       "      <th>date_reported_y/m</th>\n",
       "      <th>clearance_status_Cleared by Arrest</th>\n",
       "      <th>clearance_status_Cleared by Arrest by Another Agency</th>\n",
       "      <th>clearance_status_Exceptionally Cleared</th>\n",
       "      <th>clearance_status_Open</th>\n",
       "      <th>clearance_status_Unfounded</th>\n",
       "    </tr>\n",
       "  </thead>\n",
       "  <tbody>\n",
       "    <tr>\n",
       "      <th>0</th>\n",
       "      <td>2021</td>\n",
       "      <td>28202</td>\n",
       "      <td>01</td>\n",
       "      <td>476</td>\n",
       "      <td>Air/Bus/Train Terminal</td>\n",
       "      <td>23H</td>\n",
       "      <td>2021-08</td>\n",
       "      <td>False</td>\n",
       "      <td>False</td>\n",
       "      <td>False</td>\n",
       "      <td>True</td>\n",
       "      <td>False</td>\n",
       "    </tr>\n",
       "    <tr>\n",
       "      <th>1</th>\n",
       "      <td>2021</td>\n",
       "      <td>28273</td>\n",
       "      <td>21</td>\n",
       "      <td>82</td>\n",
       "      <td>Apartment/Duplex Private Res</td>\n",
       "      <td>23F</td>\n",
       "      <td>2021-07</td>\n",
       "      <td>False</td>\n",
       "      <td>False</td>\n",
       "      <td>False</td>\n",
       "      <td>True</td>\n",
       "      <td>False</td>\n",
       "    </tr>\n",
       "    <tr>\n",
       "      <th>2</th>\n",
       "      <td>2017</td>\n",
       "      <td>28208</td>\n",
       "      <td>02</td>\n",
       "      <td>293</td>\n",
       "      <td>Private Residence</td>\n",
       "      <td>290</td>\n",
       "      <td>2017-05</td>\n",
       "      <td>False</td>\n",
       "      <td>False</td>\n",
       "      <td>False</td>\n",
       "      <td>True</td>\n",
       "      <td>False</td>\n",
       "    </tr>\n",
       "    <tr>\n",
       "      <th>3</th>\n",
       "      <td>2022</td>\n",
       "      <td>28269</td>\n",
       "      <td>11</td>\n",
       "      <td>125</td>\n",
       "      <td>Hotel/Motel</td>\n",
       "      <td>11D</td>\n",
       "      <td>2022-10</td>\n",
       "      <td>False</td>\n",
       "      <td>False</td>\n",
       "      <td>False</td>\n",
       "      <td>True</td>\n",
       "      <td>False</td>\n",
       "    </tr>\n",
       "    <tr>\n",
       "      <th>6</th>\n",
       "      <td>2017</td>\n",
       "      <td>28215</td>\n",
       "      <td>07</td>\n",
       "      <td>271</td>\n",
       "      <td>Private Residence</td>\n",
       "      <td>220</td>\n",
       "      <td>2017-08</td>\n",
       "      <td>False</td>\n",
       "      <td>False</td>\n",
       "      <td>False</td>\n",
       "      <td>True</td>\n",
       "      <td>False</td>\n",
       "    </tr>\n",
       "  </tbody>\n",
       "</table>\n",
       "</div>"
      ],
      "text/plain": [
       "   year    zip division_id  npa      place_detail_description  \\\n",
       "0  2021  28202          01  476        Air/Bus/Train Terminal   \n",
       "1  2021  28273          21   82  Apartment/Duplex Private Res   \n",
       "2  2017  28208          02  293             Private Residence   \n",
       "3  2022  28269          11  125                   Hotel/Motel   \n",
       "6  2017  28215          07  271             Private Residence   \n",
       "\n",
       "  highest_nibrs_code date_reported_y/m  clearance_status_Cleared by Arrest  \\\n",
       "0                23H           2021-08                               False   \n",
       "1                23F           2021-07                               False   \n",
       "2                290           2017-05                               False   \n",
       "3                11D           2022-10                               False   \n",
       "6                220           2017-08                               False   \n",
       "\n",
       "   clearance_status_Cleared by Arrest by Another Agency  \\\n",
       "0                                              False      \n",
       "1                                              False      \n",
       "2                                              False      \n",
       "3                                              False      \n",
       "6                                              False      \n",
       "\n",
       "   clearance_status_Exceptionally Cleared  clearance_status_Open  \\\n",
       "0                                   False                   True   \n",
       "1                                   False                   True   \n",
       "2                                   False                   True   \n",
       "3                                   False                   True   \n",
       "6                                   False                   True   \n",
       "\n",
       "   clearance_status_Unfounded  \n",
       "0                       False  \n",
       "1                       False  \n",
       "2                       False  \n",
       "3                       False  \n",
       "6                       False  "
      ]
     },
     "execution_count": 15,
     "metadata": {},
     "output_type": "execute_result"
    }
   ],
   "source": [
    "# Encode categorical variables\n",
    "#needs_encoding = ['PLACE_DETAIL_DESCRIPTION','HIGHEST_NIBRS_CODE','DATE_REPORTED_Y/M']\n",
    "final_cmpd_df = pd.get_dummies(cleaned_cmpd_df, columns= ['clearance_status'])\n",
    "final_cmpd_df.head()"
   ]
  },
  {
   "cell_type": "code",
   "execution_count": 16,
   "id": "4eb08a9c",
   "metadata": {},
   "outputs": [
    {
     "data": {
      "text/plain": [
       "year                                                     int64\n",
       "zip                                                     object\n",
       "division_id                                             object\n",
       "npa                                                      int64\n",
       "place_detail_description                                object\n",
       "highest_nibrs_code                                      object\n",
       "date_reported_y/m                                       object\n",
       "clearance_status_Cleared by Arrest                        bool\n",
       "clearance_status_Cleared by Arrest by Another Agency      bool\n",
       "clearance_status_Exceptionally Cleared                    bool\n",
       "clearance_status_Open                                     bool\n",
       "clearance_status_Unfounded                                bool\n",
       "dtype: object"
      ]
     },
     "execution_count": 16,
     "metadata": {},
     "output_type": "execute_result"
    }
   ],
   "source": [
    "final_cmpd_df.dtypes"
   ]
  },
  {
   "cell_type": "code",
   "execution_count": 17,
   "id": "017e19a5",
   "metadata": {
    "scrolled": true
   },
   "outputs": [
    {
     "ename": "KeyError",
     "evalue": "'clearance_status_open'",
     "output_type": "error",
     "traceback": [
      "\u001b[1;31m---------------------------------------------------------------------------\u001b[0m",
      "\u001b[1;31mKeyError\u001b[0m                                  Traceback (most recent call last)",
      "File \u001b[1;32m~\\anaconda3\\envs\\dev\\lib\\site-packages\\pandas\\core\\indexes\\base.py:3653\u001b[0m, in \u001b[0;36mIndex.get_loc\u001b[1;34m(self, key)\u001b[0m\n\u001b[0;32m   3652\u001b[0m \u001b[38;5;28;01mtry\u001b[39;00m:\n\u001b[1;32m-> 3653\u001b[0m     \u001b[38;5;28;01mreturn\u001b[39;00m \u001b[38;5;28;43mself\u001b[39;49m\u001b[38;5;241;43m.\u001b[39;49m\u001b[43m_engine\u001b[49m\u001b[38;5;241;43m.\u001b[39;49m\u001b[43mget_loc\u001b[49m\u001b[43m(\u001b[49m\u001b[43mcasted_key\u001b[49m\u001b[43m)\u001b[49m\n\u001b[0;32m   3654\u001b[0m \u001b[38;5;28;01mexcept\u001b[39;00m \u001b[38;5;167;01mKeyError\u001b[39;00m \u001b[38;5;28;01mas\u001b[39;00m err:\n",
      "File \u001b[1;32m~\\anaconda3\\envs\\dev\\lib\\site-packages\\pandas\\_libs\\index.pyx:147\u001b[0m, in \u001b[0;36mpandas._libs.index.IndexEngine.get_loc\u001b[1;34m()\u001b[0m\n",
      "File \u001b[1;32m~\\anaconda3\\envs\\dev\\lib\\site-packages\\pandas\\_libs\\index.pyx:176\u001b[0m, in \u001b[0;36mpandas._libs.index.IndexEngine.get_loc\u001b[1;34m()\u001b[0m\n",
      "File \u001b[1;32mpandas\\_libs\\hashtable_class_helper.pxi:7080\u001b[0m, in \u001b[0;36mpandas._libs.hashtable.PyObjectHashTable.get_item\u001b[1;34m()\u001b[0m\n",
      "File \u001b[1;32mpandas\\_libs\\hashtable_class_helper.pxi:7088\u001b[0m, in \u001b[0;36mpandas._libs.hashtable.PyObjectHashTable.get_item\u001b[1;34m()\u001b[0m\n",
      "\u001b[1;31mKeyError\u001b[0m: 'clearance_status_open'",
      "\nThe above exception was the direct cause of the following exception:\n",
      "\u001b[1;31mKeyError\u001b[0m                                  Traceback (most recent call last)",
      "Cell \u001b[1;32mIn[17], line 7\u001b[0m\n\u001b[0;32m      1\u001b[0m \u001b[38;5;66;03m# Split data into features and target variable\u001b[39;00m\n\u001b[0;32m      2\u001b[0m \n\u001b[0;32m      3\u001b[0m \n\u001b[0;32m      4\u001b[0m \u001b[38;5;66;03m#X = final_cmpd_df.copy()\u001b[39;00m\n\u001b[0;32m      5\u001b[0m \u001b[38;5;66;03m#X.drop(['CLEARANCE_STATUS'], axis=1)\u001b[39;00m\n\u001b[1;32m----> 7\u001b[0m y \u001b[38;5;241m=\u001b[39m \u001b[43mfinal_cmpd_df\u001b[49m\u001b[43m[\u001b[49m\u001b[38;5;124;43m'\u001b[39;49m\u001b[38;5;124;43mclearance_status_open\u001b[39;49m\u001b[38;5;124;43m'\u001b[39;49m\u001b[43m]\u001b[49m\u001b[38;5;241m.\u001b[39mastype(\u001b[38;5;28mint\u001b[39m)\n",
      "File \u001b[1;32m~\\anaconda3\\envs\\dev\\lib\\site-packages\\pandas\\core\\frame.py:3761\u001b[0m, in \u001b[0;36mDataFrame.__getitem__\u001b[1;34m(self, key)\u001b[0m\n\u001b[0;32m   3759\u001b[0m \u001b[38;5;28;01mif\u001b[39;00m \u001b[38;5;28mself\u001b[39m\u001b[38;5;241m.\u001b[39mcolumns\u001b[38;5;241m.\u001b[39mnlevels \u001b[38;5;241m>\u001b[39m \u001b[38;5;241m1\u001b[39m:\n\u001b[0;32m   3760\u001b[0m     \u001b[38;5;28;01mreturn\u001b[39;00m \u001b[38;5;28mself\u001b[39m\u001b[38;5;241m.\u001b[39m_getitem_multilevel(key)\n\u001b[1;32m-> 3761\u001b[0m indexer \u001b[38;5;241m=\u001b[39m \u001b[38;5;28;43mself\u001b[39;49m\u001b[38;5;241;43m.\u001b[39;49m\u001b[43mcolumns\u001b[49m\u001b[38;5;241;43m.\u001b[39;49m\u001b[43mget_loc\u001b[49m\u001b[43m(\u001b[49m\u001b[43mkey\u001b[49m\u001b[43m)\u001b[49m\n\u001b[0;32m   3762\u001b[0m \u001b[38;5;28;01mif\u001b[39;00m is_integer(indexer):\n\u001b[0;32m   3763\u001b[0m     indexer \u001b[38;5;241m=\u001b[39m [indexer]\n",
      "File \u001b[1;32m~\\anaconda3\\envs\\dev\\lib\\site-packages\\pandas\\core\\indexes\\base.py:3655\u001b[0m, in \u001b[0;36mIndex.get_loc\u001b[1;34m(self, key)\u001b[0m\n\u001b[0;32m   3653\u001b[0m     \u001b[38;5;28;01mreturn\u001b[39;00m \u001b[38;5;28mself\u001b[39m\u001b[38;5;241m.\u001b[39m_engine\u001b[38;5;241m.\u001b[39mget_loc(casted_key)\n\u001b[0;32m   3654\u001b[0m \u001b[38;5;28;01mexcept\u001b[39;00m \u001b[38;5;167;01mKeyError\u001b[39;00m \u001b[38;5;28;01mas\u001b[39;00m err:\n\u001b[1;32m-> 3655\u001b[0m     \u001b[38;5;28;01mraise\u001b[39;00m \u001b[38;5;167;01mKeyError\u001b[39;00m(key) \u001b[38;5;28;01mfrom\u001b[39;00m \u001b[38;5;21;01merr\u001b[39;00m\n\u001b[0;32m   3656\u001b[0m \u001b[38;5;28;01mexcept\u001b[39;00m \u001b[38;5;167;01mTypeError\u001b[39;00m:\n\u001b[0;32m   3657\u001b[0m     \u001b[38;5;66;03m# If we have a listlike key, _check_indexing_error will raise\u001b[39;00m\n\u001b[0;32m   3658\u001b[0m     \u001b[38;5;66;03m#  InvalidIndexError. Otherwise we fall through and re-raise\u001b[39;00m\n\u001b[0;32m   3659\u001b[0m     \u001b[38;5;66;03m#  the TypeError.\u001b[39;00m\n\u001b[0;32m   3660\u001b[0m     \u001b[38;5;28mself\u001b[39m\u001b[38;5;241m.\u001b[39m_check_indexing_error(key)\n",
      "\u001b[1;31mKeyError\u001b[0m: 'clearance_status_open'"
     ]
    }
   ],
   "source": [
    "# Split data into features and target variable\n",
    "\n",
    "\n",
    "#X = final_cmpd_df.copy()\n",
    "#X.drop(['CLEARANCE_STATUS'], axis=1)\n",
    "\n",
    "y = final_cmpd_df['clearance_status_open'].astype(int)\n"
   ]
  },
  {
   "cell_type": "code",
   "execution_count": null,
   "id": "93e7b2b8",
   "metadata": {},
   "outputs": [],
   "source": [
    "#final_cmpd_df.head()\n",
    "X"
   ]
  },
  {
   "cell_type": "code",
   "execution_count": null,
   "id": "7048a875",
   "metadata": {},
   "outputs": [],
   "source": [
    "# Set the data rate limit directly\n",
    "#import os\n",
    "#os.environ['NotebookApp.iopub_data_rate_limit'] = '1000000000'\n",
    "\n",
    "#def find_string_values(final_cmpd_df):\n",
    "    #string_values = []\n",
    "    #for col in final_cmpd_df.columns:\n",
    "       # for i, val in enumerate(final_cmpd_df[col]):\n",
    "            #if isinstance(val, str):\n",
    "                #string_values.append((col, i, val))\n",
    "    #return string_values\n",
    "\n",
    "# Call the function on your DataFrame\n",
    "#result = find_string_values(final_cmpd_df)\n",
    "#print(result)"
   ]
  },
  {
   "cell_type": "code",
   "execution_count": null,
   "id": "967a1938",
   "metadata": {},
   "outputs": [],
   "source": [
    "# Import sklearn to spilt the dataset into training and testing data\n",
    "from sklearn.model_selection import train_test_split\n",
    "\n",
    "# Assuming X and y are your features and target variable\n",
    "X_train, X_test, y_train, y_test = train_test_split(X, y, test_size= 0.2, random_state=42)\n"
   ]
  },
  {
   "cell_type": "code",
   "execution_count": null,
   "id": "4c28cfe2",
   "metadata": {},
   "outputs": [],
   "source": [
    "# Create scaler instance\n",
    "X_scaler = skl.preprocessing.StandardScaler()\n",
    "\n",
    "# Fit the scaler\n",
    "X_scaler.fit(X_train)\n",
    "\n",
    "# Scale the data\n",
    "X_train_scaled = X_scaler.transform(X_train)\n",
    "X_test_scaled = X_scaler.transform(X_test)"
   ]
  },
  {
   "cell_type": "code",
   "execution_count": null,
   "id": "4f3f392a",
   "metadata": {},
   "outputs": [],
   "source": [
    "# Create the Keras Sequential model\n",
    "nn_model = tf.keras.models.Sequential()"
   ]
  },
  {
   "cell_type": "code",
   "execution_count": null,
   "id": "271947fc",
   "metadata": {},
   "outputs": [],
   "source": []
  },
  {
   "cell_type": "code",
   "execution_count": null,
   "id": "ccb9e38e",
   "metadata": {},
   "outputs": [],
   "source": []
  }
 ],
 "metadata": {
  "kernelspec": {
   "display_name": "Python 3 (ipykernel)",
   "language": "python",
   "name": "python3"
  },
  "language_info": {
   "codemirror_mode": {
    "name": "ipython",
    "version": 3
   },
   "file_extension": ".py",
   "mimetype": "text/x-python",
   "name": "python",
   "nbconvert_exporter": "python",
   "pygments_lexer": "ipython3",
   "version": "3.10.13"
  }
 },
 "nbformat": 4,
 "nbformat_minor": 5
}
