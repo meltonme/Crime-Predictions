{
 "cells": [
  {
   "cell_type": "code",
   "execution_count": 15,
   "id": "94ec7a40",
   "metadata": {
    "scrolled": true
   },
   "outputs": [
    {
     "name": "stderr",
     "output_type": "stream",
     "text": [
      "C:\\Users\\mahan\\AppData\\Local\\Temp\\ipykernel_19820\\1953776175.py:12: DtypeWarning:\n",
      "\n",
      "Columns (7) have mixed types. Specify dtype option on import or set low_memory=False.\n",
      "\n"
     ]
    },
    {
     "data": {
      "text/html": [
       "<div>\n",
       "<style scoped>\n",
       "    .dataframe tbody tr th:only-of-type {\n",
       "        vertical-align: middle;\n",
       "    }\n",
       "\n",
       "    .dataframe tbody tr th {\n",
       "        vertical-align: top;\n",
       "    }\n",
       "\n",
       "    .dataframe thead th {\n",
       "        text-align: right;\n",
       "    }\n",
       "</style>\n",
       "<table border=\"1\" class=\"dataframe\">\n",
       "  <thead>\n",
       "    <tr style=\"text-align: right;\">\n",
       "      <th></th>\n",
       "      <th>X</th>\n",
       "      <th>Y</th>\n",
       "      <th>YEAR</th>\n",
       "      <th>INCIDENT_REPORT_ID</th>\n",
       "      <th>LOCATION</th>\n",
       "      <th>CITY</th>\n",
       "      <th>STATE</th>\n",
       "      <th>ZIP</th>\n",
       "      <th>X_COORD_PUBLIC</th>\n",
       "      <th>Y_COORD_PUBLIC</th>\n",
       "      <th>...</th>\n",
       "      <th>LOCATION_TYPE_DESCRIPTION</th>\n",
       "      <th>PLACE_TYPE_DESCRIPTION</th>\n",
       "      <th>PLACE_DETAIL_DESCRIPTION</th>\n",
       "      <th>CLEARANCE_STATUS</th>\n",
       "      <th>CLEARANCE_DETAIL_STATUS</th>\n",
       "      <th>CLEARANCE_DATE</th>\n",
       "      <th>HIGHEST_NIBRS_CODE</th>\n",
       "      <th>HIGHEST_NIBRS_DESCRIPTION</th>\n",
       "      <th>OBJECTID</th>\n",
       "      <th>GlobalID</th>\n",
       "    </tr>\n",
       "  </thead>\n",
       "  <tbody>\n",
       "    <tr>\n",
       "      <th>0</th>\n",
       "      <td>1.448107e+06</td>\n",
       "      <td>543688.000087</td>\n",
       "      <td>2021</td>\n",
       "      <td>20210807-1032-01</td>\n",
       "      <td>500 W 4TH ST</td>\n",
       "      <td>CHARLOTTE</td>\n",
       "      <td>NC</td>\n",
       "      <td>28202.0</td>\n",
       "      <td>1448107</td>\n",
       "      <td>543688</td>\n",
       "      <td>...</td>\n",
       "      <td>Outdoors</td>\n",
       "      <td>Public/Non-Residential</td>\n",
       "      <td>Air/Bus/Train Terminal</td>\n",
       "      <td>Open</td>\n",
       "      <td>Open</td>\n",
       "      <td>NaN</td>\n",
       "      <td>23H</td>\n",
       "      <td>All Other Thefts</td>\n",
       "      <td>1</td>\n",
       "      <td>{EAFA7AFE-E804-4C62-A54A-27FE05DC193C}</td>\n",
       "    </tr>\n",
       "    <tr>\n",
       "      <th>1</th>\n",
       "      <td>1.406833e+06</td>\n",
       "      <td>499666.999875</td>\n",
       "      <td>2021</td>\n",
       "      <td>20210714-0714-02</td>\n",
       "      <td>14200 PERUGIA WY</td>\n",
       "      <td>CHARLOTTE</td>\n",
       "      <td>NC</td>\n",
       "      <td>28273.0</td>\n",
       "      <td>1406833</td>\n",
       "      <td>499667</td>\n",
       "      <td>...</td>\n",
       "      <td>Parking Lot</td>\n",
       "      <td>Residential</td>\n",
       "      <td>Apartment/Duplex Private Res</td>\n",
       "      <td>Open</td>\n",
       "      <td>Open</td>\n",
       "      <td>NaN</td>\n",
       "      <td>23F</td>\n",
       "      <td>Theft From Motor Vehicle</td>\n",
       "      <td>2</td>\n",
       "      <td>{3A654D83-2451-4CD1-8DDF-D4DC033AFDAA}</td>\n",
       "    </tr>\n",
       "    <tr>\n",
       "      <th>2</th>\n",
       "      <td>1.439801e+06</td>\n",
       "      <td>548658.999988</td>\n",
       "      <td>2017</td>\n",
       "      <td>20170521-1457-02</td>\n",
       "      <td>3000 RUSH AV</td>\n",
       "      <td>CHARLOTTE</td>\n",
       "      <td>NC</td>\n",
       "      <td>28208.0</td>\n",
       "      <td>1439801</td>\n",
       "      <td>548659</td>\n",
       "      <td>...</td>\n",
       "      <td>Outdoors</td>\n",
       "      <td>Residential</td>\n",
       "      <td>Private Residence</td>\n",
       "      <td>Open</td>\n",
       "      <td>Open</td>\n",
       "      <td>NaN</td>\n",
       "      <td>290</td>\n",
       "      <td>Damage/Vandalism Of Property</td>\n",
       "      <td>3</td>\n",
       "      <td>{041746DD-6C3E-41AD-B4CB-7D98FBF99F95}</td>\n",
       "    </tr>\n",
       "    <tr>\n",
       "      <th>3</th>\n",
       "      <td>1.449394e+06</td>\n",
       "      <td>572029.000163</td>\n",
       "      <td>2022</td>\n",
       "      <td>20221028-1713-02</td>\n",
       "      <td>4900 SUNSET RD</td>\n",
       "      <td>CHARLOTTE</td>\n",
       "      <td>NC</td>\n",
       "      <td>28269.0</td>\n",
       "      <td>1449394</td>\n",
       "      <td>572029</td>\n",
       "      <td>...</td>\n",
       "      <td>Indoors</td>\n",
       "      <td>Commercial Place</td>\n",
       "      <td>Hotel/Motel</td>\n",
       "      <td>Open</td>\n",
       "      <td>Open</td>\n",
       "      <td>NaN</td>\n",
       "      <td>11D</td>\n",
       "      <td>Forcible Fondling</td>\n",
       "      <td>4</td>\n",
       "      <td>{C122DBB6-928D-49AA-BB56-6D73D609E03D}</td>\n",
       "    </tr>\n",
       "    <tr>\n",
       "      <th>4</th>\n",
       "      <td>1.432559e+06</td>\n",
       "      <td>550084.000090</td>\n",
       "      <td>2020</td>\n",
       "      <td>20201214-0857-00</td>\n",
       "      <td>4600 TUCKASEEGEE RD</td>\n",
       "      <td>CHARLOTTE</td>\n",
       "      <td>NC</td>\n",
       "      <td>NaN</td>\n",
       "      <td>1432559</td>\n",
       "      <td>550084</td>\n",
       "      <td>...</td>\n",
       "      <td>Indoors</td>\n",
       "      <td>Commercial Place</td>\n",
       "      <td>Day Care</td>\n",
       "      <td>Open</td>\n",
       "      <td>Open</td>\n",
       "      <td>NaN</td>\n",
       "      <td>220</td>\n",
       "      <td>Burglary/B&amp;E</td>\n",
       "      <td>5</td>\n",
       "      <td>{0BA4BB41-45FF-425F-A678-7A4676379EA9}</td>\n",
       "    </tr>\n",
       "  </tbody>\n",
       "</table>\n",
       "<p>5 rows × 29 columns</p>\n",
       "</div>"
      ],
      "text/plain": [
       "              X              Y  YEAR INCIDENT_REPORT_ID             LOCATION  \\\n",
       "0  1.448107e+06  543688.000087  2021   20210807-1032-01         500 W 4TH ST   \n",
       "1  1.406833e+06  499666.999875  2021   20210714-0714-02     14200 PERUGIA WY   \n",
       "2  1.439801e+06  548658.999988  2017   20170521-1457-02         3000 RUSH AV   \n",
       "3  1.449394e+06  572029.000163  2022   20221028-1713-02       4900 SUNSET RD   \n",
       "4  1.432559e+06  550084.000090  2020   20201214-0857-00  4600 TUCKASEEGEE RD   \n",
       "\n",
       "        CITY STATE      ZIP  X_COORD_PUBLIC  Y_COORD_PUBLIC  ...  \\\n",
       "0  CHARLOTTE    NC  28202.0         1448107          543688  ...   \n",
       "1  CHARLOTTE    NC  28273.0         1406833          499667  ...   \n",
       "2  CHARLOTTE    NC  28208.0         1439801          548659  ...   \n",
       "3  CHARLOTTE    NC  28269.0         1449394          572029  ...   \n",
       "4  CHARLOTTE    NC      NaN         1432559          550084  ...   \n",
       "\n",
       "   LOCATION_TYPE_DESCRIPTION  PLACE_TYPE_DESCRIPTION  \\\n",
       "0                   Outdoors  Public/Non-Residential   \n",
       "1                Parking Lot             Residential   \n",
       "2                   Outdoors             Residential   \n",
       "3                    Indoors        Commercial Place   \n",
       "4                    Indoors        Commercial Place   \n",
       "\n",
       "       PLACE_DETAIL_DESCRIPTION CLEARANCE_STATUS  CLEARANCE_DETAIL_STATUS  \\\n",
       "0        Air/Bus/Train Terminal             Open                     Open   \n",
       "1  Apartment/Duplex Private Res             Open                     Open   \n",
       "2             Private Residence             Open                     Open   \n",
       "3                   Hotel/Motel             Open                     Open   \n",
       "4                      Day Care             Open                     Open   \n",
       "\n",
       "  CLEARANCE_DATE HIGHEST_NIBRS_CODE     HIGHEST_NIBRS_DESCRIPTION OBJECTID  \\\n",
       "0            NaN                23H              All Other Thefts        1   \n",
       "1            NaN                23F      Theft From Motor Vehicle        2   \n",
       "2            NaN                290  Damage/Vandalism Of Property        3   \n",
       "3            NaN                11D             Forcible Fondling        4   \n",
       "4            NaN                220                  Burglary/B&E        5   \n",
       "\n",
       "                                 GlobalID  \n",
       "0  {EAFA7AFE-E804-4C62-A54A-27FE05DC193C}  \n",
       "1  {3A654D83-2451-4CD1-8DDF-D4DC033AFDAA}  \n",
       "2  {041746DD-6C3E-41AD-B4CB-7D98FBF99F95}  \n",
       "3  {C122DBB6-928D-49AA-BB56-6D73D609E03D}  \n",
       "4  {0BA4BB41-45FF-425F-A678-7A4676379EA9}  \n",
       "\n",
       "[5 rows x 29 columns]"
      ]
     },
     "execution_count": 15,
     "metadata": {},
     "output_type": "execute_result"
    }
   ],
   "source": [
    "import pandas as pd\n",
    "#need zipfile module to unpack the zipfile through jupyter notebook\n",
    "#module documentation https://pypi.org/project/zipfile36/\n",
    "#https://stackoverflow.com/questions/26942476/reading-csv-zipped-files-in-python\n",
    "import zipfile\n",
    "\n",
    "\n",
    "#Upload the zipfile that we want to read\n",
    "zf = zipfile.ZipFile('C:/Users/mahan/OneDrive/Desktop/Repos/Crime-Predictions/CMPD_Incidents.zip')\n",
    "\n",
    "#Have Pandas read the csv file in the zip file \n",
    "CMPD_df = pd.read_csv(zf.open('CMPD_Incidents.csv'))\n",
    "\n",
    "CMPD_df.head(5)"
   ]
  },
  {
   "cell_type": "code",
   "execution_count": 16,
   "id": "32f90894",
   "metadata": {},
   "outputs": [
    {
     "data": {
      "text/plain": [
       "Index(['X', 'Y', 'YEAR', 'INCIDENT_REPORT_ID', 'LOCATION', 'CITY', 'STATE',\n",
       "       'ZIP', 'X_COORD_PUBLIC', 'Y_COORD_PUBLIC', 'LATITUDE_PUBLIC',\n",
       "       'LONGITUDE_PUBLIC', 'DIVISION_ID', 'CMPD_PATROL_DIVISION', 'NPA',\n",
       "       'DATE_REPORTED', 'DATE_INCIDENT_BEGAN', 'DATE_INCIDENT_END',\n",
       "       'ADDRESS_DESCRIPTION', 'LOCATION_TYPE_DESCRIPTION',\n",
       "       'PLACE_TYPE_DESCRIPTION', 'PLACE_DETAIL_DESCRIPTION',\n",
       "       'CLEARANCE_STATUS', 'CLEARANCE_DETAIL_STATUS', 'CLEARANCE_DATE',\n",
       "       'HIGHEST_NIBRS_CODE', 'HIGHEST_NIBRS_DESCRIPTION', 'OBJECTID',\n",
       "       'GlobalID'],\n",
       "      dtype='object')"
      ]
     },
     "execution_count": 16,
     "metadata": {},
     "output_type": "execute_result"
    }
   ],
   "source": [
    "CMPD_df.columns"
   ]
  },
  {
   "cell_type": "code",
   "execution_count": 17,
   "id": "dbcaf284",
   "metadata": {},
   "outputs": [
    {
     "name": "stdout",
     "output_type": "stream",
     "text": [
      "[0 0 0 ... 0 1 1]\n"
     ]
    }
   ],
   "source": [
    "#Change the values in the 'CLEARANCE STATUS' to 0 or 1\n",
    "# 0 = Open\n",
    "# 1 = Cleared  \n",
    "#Define the mapping \n",
    "mapping = {'Open': 0, 'Cleared by Arrest': 1, 'Cleared by Arrest by Another Agency': 1, 'Exceptionally Cleared': 1, 'Unfounded': 1}\n",
    "\n",
    "# Apply mapping to the 'CLEARANCE_STATUS' column and fill NaN values with a default value (e.g., False)\n",
    "CMPD_df['CLEARANCE_STATUS'] = CMPD_df['CLEARANCE_STATUS'].map(mapping).fillna(False)\n",
    "\n",
    "#check to make sure the above worked\n",
    "CMPD_df.head(5)\n",
    "\n",
    "#Convert the 'CLEARANCE_STATUS' column into an array \n",
    "\n",
    "status_array = CMPD_df['CLEARANCE_STATUS'].values\n",
    "print(status_array)"
   ]
  },
  {
   "cell_type": "code",
   "execution_count": 18,
   "id": "c0d488f7",
   "metadata": {},
   "outputs": [
    {
     "data": {
      "text/plain": [
       "Index(['YEAR', 'INCIDENT_REPORT_ID', 'LOCATION', 'CITY', 'STATE', 'ZIP',\n",
       "       'LATITUDE_PUBLIC', 'LONGITUDE_PUBLIC', 'DIVISION_ID',\n",
       "       'CMPD_PATROL_DIVISION', 'NPA', 'DATE_REPORTED', 'DATE_INCIDENT_BEGAN',\n",
       "       'DATE_INCIDENT_END', 'ADDRESS_DESCRIPTION', 'LOCATION_TYPE_DESCRIPTION',\n",
       "       'PLACE_TYPE_DESCRIPTION', 'PLACE_DETAIL_DESCRIPTION',\n",
       "       'CLEARANCE_STATUS', 'CLEARANCE_DETAIL_STATUS', 'CLEARANCE_DATE',\n",
       "       'HIGHEST_NIBRS_CODE', 'HIGHEST_NIBRS_DESCRIPTION', 'OBJECTID',\n",
       "       'GlobalID'],\n",
       "      dtype='object')"
      ]
     },
     "execution_count": 18,
     "metadata": {},
     "output_type": "execute_result"
    }
   ],
   "source": [
    "#Delete the columns that we do not need\n",
    "CMPD_df = CMPD_df.drop(columns=['X','Y','X_COORD_PUBLIC', 'Y_COORD_PUBLIC'])\n",
    "\n",
    "#print to make sure that the columns actually dropped in the DataFrame\n",
    "CMPD_df.columns"
   ]
  },
  {
   "cell_type": "code",
   "execution_count": 19,
   "id": "5475fea4",
   "metadata": {
    "scrolled": true
   },
   "outputs": [
    {
     "data": {
      "text/plain": [
       "YEAR                           int64\n",
       "INCIDENT_REPORT_ID            object\n",
       "LOCATION                      object\n",
       "CITY                          object\n",
       "STATE                         object\n",
       "ZIP                           object\n",
       "LATITUDE_PUBLIC              float64\n",
       "LONGITUDE_PUBLIC             float64\n",
       "DIVISION_ID                   object\n",
       "CMPD_PATROL_DIVISION          object\n",
       "NPA                            int64\n",
       "DATE_REPORTED                 object\n",
       "DATE_INCIDENT_BEGAN           object\n",
       "DATE_INCIDENT_END             object\n",
       "ADDRESS_DESCRIPTION           object\n",
       "LOCATION_TYPE_DESCRIPTION     object\n",
       "PLACE_TYPE_DESCRIPTION        object\n",
       "PLACE_DETAIL_DESCRIPTION      object\n",
       "CLEARANCE_STATUS               int64\n",
       "CLEARANCE_DETAIL_STATUS       object\n",
       "CLEARANCE_DATE                object\n",
       "HIGHEST_NIBRS_CODE            object\n",
       "HIGHEST_NIBRS_DESCRIPTION     object\n",
       "OBJECTID                       int64\n",
       "GlobalID                      object\n",
       "dtype: object"
      ]
     },
     "execution_count": 19,
     "metadata": {},
     "output_type": "execute_result"
    }
   ],
   "source": [
    "#check the data type of each column\n",
    "CMPD_df.dtypes"
   ]
  },
  {
   "cell_type": "code",
   "execution_count": null,
   "id": "9f7a2ee6",
   "metadata": {},
   "outputs": [],
   "source": [
    "#Print the  unique value counts for each category in \n",
    "#the 'HIGHEST_NIBRS_DESCRIPTION' Column \n",
    "#Visualization #1 - Bar chart of the number of crimes in each category"
   ]
  },
  {
   "cell_type": "code",
   "execution_count": null,
   "id": "48433b16",
   "metadata": {},
   "outputs": [],
   "source": [
    "#Visualization #2 - Bar Chart Clearance Status\n",
    "#Plot elements in clearance status "
   ]
  },
  {
   "cell_type": "code",
   "execution_count": null,
   "id": "e6433ff5",
   "metadata": {},
   "outputs": [],
   "source": [
    "#Visualization #3 - Linegraph of number of crimes per year "
   ]
  },
  {
   "cell_type": "code",
   "execution_count": null,
   "id": "c30da293",
   "metadata": {},
   "outputs": [],
   "source": [
    "#Visualization #4 - Linegraph of number of crimes per month filtered by year"
   ]
  },
  {
   "cell_type": "code",
   "execution_count": null,
   "id": "bdb6b45f",
   "metadata": {},
   "outputs": [],
   "source": [
    "#Visualization #5 - Interactive Map of crime locations (filter per year?)\n",
    "#If we have time and are feeling good about ourselves"
   ]
  },
  {
   "cell_type": "markdown",
   "id": "a0979446",
   "metadata": {},
   "source": []
  }
 ],
 "metadata": {
  "kernelspec": {
   "display_name": "Python 3 (ipykernel)",
   "language": "python",
   "name": "python3"
  },
  "language_info": {
   "codemirror_mode": {
    "name": "ipython",
    "version": 3
   },
   "file_extension": ".py",
   "mimetype": "text/x-python",
   "name": "python",
   "nbconvert_exporter": "python",
   "pygments_lexer": "ipython3",
   "version": "3.10.13"
  }
 },
 "nbformat": 4,
 "nbformat_minor": 5
}
